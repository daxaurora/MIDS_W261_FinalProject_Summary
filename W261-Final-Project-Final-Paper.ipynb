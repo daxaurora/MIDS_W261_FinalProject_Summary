{
 "cells": [
  {
   "cell_type": "markdown",
   "metadata": {},
   "source": [
    "# Final Project: Predicting Click-Through Rate using Logistic Regression\n",
    "__`MIDS w261: Machine Learning at Scale | UC Berkeley School of Information | Fall 2018`__  \n",
    "##### Group 2: Ramakrishnan Balasubramanian, Brandon Cummings, Laura Williams, Zhaoning Yu"
   ]
  },
  {
   "cell_type": "markdown",
   "metadata": {},
   "source": [
    "## Section 1:  Introduction and Question Formulation"
   ]
  },
  {
   "cell_type": "markdown",
   "metadata": {},
   "source": [
    "According to $eMarketer^1$  US advertisers will spend nearly \\\\$48B on display advertising in 2018. One primary challenge facing display advertisements is measuring and improving the effectiveness of such efforts. While there are many measures of effectiveness, one key metric that is broadly followed is _Click-Through-Rate_(CTR): the percentage of times a displayed ad is clicked on by a user.  Being able to predict which ads are more likely to be clicked on when presented to specific consumers is crucial to achieving better ROI on advertising spend.  This could depend on features of the ad (quality, message, content etc.), consumer characteristics (interest, demographics etc.), timing of the ad (time of day, day of week, event-triggered etc.) and interaction between these elements.  For instance, the relevance of an ad to a specific consumer may be a result of an event that has occured, *e.g.*, a consumer might be interested in an ad for a pre-concert dining offer when presented with such an ad after purchasing tickets for a specific concert or event - but once the event is over, they may no longer be interested in that specific ad.   \n",
    "\n",
    "\n",
    "The __key question__ in this project is \"Can we model click-through-behavior in order to better predict which customers might click on which ads - and use that to target the right ads to the right customers at the right time\".  \n",
    "\n",
    "\n",
    "The __primary goal__ of our analysis would be to create a model that predicts click-through rates given a set of ad/customer features.   \n",
    "\n",
    "Given that average click-through-rates are extremely low - 0.09\\% according to $eMarketer^2$ - any improvement in our ability to predict who might click on a specific display ad is likely to improve this performance metric.   The really low number also presents some analytical challenges - any data that we collect and analyze is going to be very imbalanced (only 9 out of 1000 ads are being clicked on, the positive class events are few and far between). Fortunately the data we received for the project already has sampled the underlying data to provide us with higher incidence of the positive class than might be found in the raw data (about 25%).\n",
    "\n",
    "__Practical Significance:__  While on the surface improving CTR seems like a good idea - we need to take a broader perspective. Given the extremely low rate of Clicks on display ads, one is better off asking the broader question - do display ads improve sales (even if it they do not occur through direct clicks). The best way to answer this question is through a randomized, controlled trial - the material covered in W241. So, even if we have a model that improves our ability to predict which consumers will click on which ads, given that often display ads are paid for based on \"impressions\" delivered (driven by volume) and not necessarily \"clicks\" or \"conversions\" (driven by relevance), we may not see any improvements in our ability to predict CTRs translate into actual improvement in that metric's performance - especially if it comes at lower volumes of ads delivered!   \n",
    "\n",
    "In addition since all the data received for this project are \"hashed and masked\" - we will not indulge in exploring interaction effects. There are too many combinations of interaction effects to explore and without a sound understanding of the underlying data elements, exploring all these interactions will be akin to p-value-hacking (we are bound to find some interactions of significance if we try many combinations).  \n",
    "\n",
    "We chose logistic regression using gradient descent as our algorithm for modeling predictions based on this dataset.  Logistic regression is an obvious consideration, given the binary outcome variable (click vs. no click), and lends itself to potentially using regularization to narrow down the large number of features.\n",
    "\n",
    "Throughout this project we asked ourselves \"what is the learning objective of this exercise\" and made decisions that were in accordance with that. This meant that we did not fully explore certain aspects with a data-science mind-set. However, we have identified where appropriate these opportunities for further exploration.    \n",
    "\n",
    "  \n",
    "$^1eMarketer$: https://www.emarketer.com/content/us-advertisers-will-spend-nearly-48-billion-on-digital-display-ads-in-2018-emarketer-estimates  \n",
    "$^2 eMarketer$: https://www.emarketer.com/performance"
   ]
  },
  {
   "cell_type": "markdown",
   "metadata": {},
   "source": [
    "### Notebook Setup\n",
    "We tested our code on local machines using a small random sample of the dataset, and then ran all code, using the full dataset where appropriate, on a Google DataProc cluster. Each code block in this section is clearly marked for running this notebook either **LOCALLY** or on the **CLUSTER**.\n",
    "\n",
    "Note that the kernel for the notebook needs to be changed depending on where the notebook is being run:  \n",
    "LOCALLY: Python 3 kernel  \n",
    "CLUSTER: Pyspark kernel  "
   ]
  },
  {
   "cell_type": "code",
   "execution_count": 1,
   "metadata": {
    "collapsed": true
   },
   "outputs": [],
   "source": [
    "# RUN THIS CELL for running in the CLUSTER\n",
    "## Remember to change to the pyspark kernel\n",
    "\n",
    "!pip install pyspark\n",
    "!pip install --upgrade pip\n",
    "!pip install --upgrade pandas\n",
    "!pip install --upgrade google-api-python-client\n",
    "!pip install scipy\n",
    "\n",
    "from google.cloud import storage\n",
    "storage_client = storage.Client()\n",
    "bucket_name = 'final-project-w261-ads-data'\n",
    "project_bucket = storage_client.get_bucket(bucket_name)\n"
   ]
  },
  {
   "cell_type": "code",
   "execution_count": 2,
   "metadata": {
    "collapsed": true
   },
   "outputs": [],
   "source": [
    "# RUN THIS CELL for running in both the CLUSTER and LOCALLY\n",
    "import time\n",
    "import math\n",
    "import pickle\n",
    "import numpy as np\n",
    "import pandas as pd\n",
    "import matplotlib.pyplot as plt\n",
    "import scipy\n",
    "from scipy.stats import chi2_contingency\n",
    "from scipy.stats import ttest_ind\n",
    "from sklearn.metrics import f1_score, classification_report\n",
    "from sklearn.metrics import roc_curve, roc_auc_score\n",
    "from pyspark.sql import SparkSession\n",
    "from pyspark.sql import Row\n",
    "from pyspark.sql.types import StructField, StructType, StringType, IntegerType, FloatType\n",
    "from pyspark.sql.functions import regexp_replace, col, avg\n",
    "from pyspark.sql.functions import * \n",
    "from pyspark.ml.feature import OneHotEncoder, VectorAssembler, VectorIndexer, StringIndexer\n",
    "from pyspark.ml import Pipeline\n",
    "\n",
    "%matplotlib inline\n",
    "%reload_ext autoreload\n",
    "%autoreload 2"
   ]
  },
  {
   "cell_type": "code",
   "execution_count": 3,
   "metadata": {
    "collapsed": true
   },
   "outputs": [],
   "source": [
    "# RUN THIS CELL for starting spark on the CLUSTER\n",
    "app_name = \"final_project_notebook\"\n",
    "spark\n",
    "sc = spark.sparkContext"
   ]
  },
  {
   "cell_type": "code",
   "execution_count": null,
   "metadata": {
    "collapsed": true
   },
   "outputs": [],
   "source": [
    "# RUN THIS CELL for staring spark LOCALLY \n",
    "app_name = \"final_project_notebook\"\n",
    "master = \"local[*]\"\n",
    "spark = SparkSession\\\n",
    "        .builder\\\n",
    "        .appName(app_name)\\\n",
    "        .master(master)\\\n",
    "        .getOrCreate()\n",
    "sc = spark.sparkContext"
   ]
  },
  {
   "cell_type": "markdown",
   "metadata": {},
   "source": [
    "### Downloading and Sampling the Data\n",
    "\n",
    "The full dataset is available from Criteo Labs and can be downloaded from this website:  \n",
    "http://labs.criteo.com/2014/09/kaggle-contest-dataset-now-available-academic-use/\n",
    "\n",
    "Its original use was in a Kaggle competition on CTR prediction.  \n",
    "\n",
    "The file download (compressed) is 4.3GB, and must be downloaded directly from the website (there is not a command-line option to download this dataset.)\n",
    "\n",
    "The file unzips and uncompresses into three files:\n",
    "train.txt - 11.15GB\n",
    "test.txt - 1.46GB\n",
    "readme.txt - 2KB\n",
    "\n",
    "The test.txt file does not have output value data and thus will not be used in this project.\n",
    "\n",
    "Using the following code, we created 100 random splits of the train.txt file, and assigned 80 of the resulting files to training and 20 to testing. \n",
    "\n",
    "```\n",
    "#!/bin/bash \n",
    "BEGIN {\n",
    "filenamePrefix = \"train_part\"}\n",
    "{r = int(rand()*100)\n",
    "print($0)>> filenamePrefix\"_\"r\".txt\";\n",
    "}\n",
    "```\n",
    "\n",
    "In the algorithm implemention in Section 4, 10% of the training data is additionally held back as development testing data."
   ]
  },
  {
   "cell_type": "markdown",
   "metadata": {},
   "source": [
    "To create a very small file (24MB in size) for testing our code, we used Spark's `takeSample` method to take a random sample from the full dataset, which we then saved in the same format as the full dataset in a file we called `sample_tiny.txt`."
   ]
  },
  {
   "cell_type": "markdown",
   "metadata": {},
   "source": [
    "## Section 2: Algorithm Explanation and Theory"
   ]
  },
  {
   "cell_type": "markdown",
   "metadata": {},
   "source": [
    "Since the CTR prediction problem has a binary response variable $Y$, we decide to implement a logistic regression classifier for its simplicity and interpretability. In logistic regression, we assume there is approximately a linear relationship between the log-odds (logit) of the probability of click-through $p(\\mathbf{x})$ and the features $\\mathbf{x}$:\n",
    "\n",
    "$$log(\\frac{p(\\mathbf{x})}{1-p(\\mathbf{x})})=b + \\mathbf{w}\\cdot \\mathbf{x}$$\n",
    "\n",
    "Here, $b$ (intercept) and $\\mathbf{w}$ (slope coefficients) are the model paramters.\n",
    "\n",
    "Thus, the probability of click-through is:\n",
    "\n",
    "$$p(\\mathbf{x}) = \\frac{e^{b + \\mathbf{w}\\cdot \\mathbf{x}}}{1+e^{b + \\mathbf{w}\\cdot \\mathbf{x}}}$$\n",
    "\n",
    "\n",
    "While an Ordinary Least Squares (OLS) cost function is commonly used with Linear Regression, an OLS cost function used with Logistic Regression will not result in a convex function, and in this case gradient descent cannot be guaranteed to converge toward a global minimum.  Instead, the cross-entropy cost function when used with Logistic Regression, since this is a binary classification problem, results in a convex function that will converge toward a global minimum with gradient descent:\n",
    "\n",
    "$$\n",
    "J(\\mathbf{w}, b) = -\\frac{1}{n}\\sum_{i=1}^{n}\\left[y_i log(\\sigma (\\mathbf{w}^T\\mathbf{x}_i + b)) +(1- y_i) log(1-\\sigma (\\mathbf{w}^T\\mathbf{x}_i + b))\\right]\n",
    "$$\n",
    "\n",
    "Where $\\sigma(z)$ is the logistic (sigmoid) function:\n",
    "\n",
    "$$\\sigma(z) = \\frac{1}{1+e^{-z}}$$\n",
    "\n",
    "The goal of training is to minimize the cross-entropy cost function by iterating gradient descent steps.\n",
    "\n",
    "We start by initializing with a BASELINE model. The BASELINE model is the starting point for the training, we first calculate the probability __$\\hat{p}$__ of being label \"1\" using the training set, we set the initial bias $\\beta_0$ as the logit of __$\\hat{p}$__:\n",
    "\n",
    "$$b_0 \\equiv logit(\\hat{p})=log(\\frac{\\hat{p}}{1-\\hat{p}})$$\n",
    " \n",
    "For each step, we compute the gradient as follows:\n",
    "\n",
    "$$\\nabla_{\\mathbf{w}} J(\\boldsymbol{w}, b) = \\frac{2}{n}\\,\\sum_{i=1}^{n}\\left[ \\sigma(\\mathbf{w}\\cdot\\mathbf{x}_i+b) - y_i\\right] \\cdot \\mathbf{x}$$  \n",
    "\n",
    "and update our model parameters by a simple update formula:  \n",
    "\n",
    "$$ \\mathbf{w_{new}} = \\mathbf{w_{old}} - \\nabla_{\\mathbf{w}} J(\\boldsymbol{w_{old}}, b) * \\alpha$$\n",
    "where $\\alpha$ is the learning rate parameter.\n",
    "\n",
    "We can also apply regularization by using following:\n",
    "\n",
    "#### Ridge:\n",
    "\n",
    "$$\\nabla_{\\mathbf{w}} J(\\boldsymbol{w}, b) = \\frac{2}{n}\\,\\sum_{i=1}^{n}\\left[ \\sigma(\\mathbf{w}\\cdot\\mathbf{x}_i+b) - y_i\\right] \\cdot \\mathbf{x} + 2 \\lambda\\mathbf{w}$$\n",
    "\n",
    "#### Lasso:\n",
    "\n",
    "$$\\nabla_{\\mathbf{w}} J(\\boldsymbol{w}, b) = \\frac{2}{n}\\,\\sum_{i=1}^{n}\\left[ \\sigma(\\mathbf{w}\\cdot\\mathbf{x}_i+b) - y_i\\right] \\cdot \\mathbf{x} + \\lambda  \\cdot sgn (\\mathbf{w})$$\n",
    "\n",
    "In our implementaion, the regularization can be turned on by setting parameters `regType` and `regParam`.\n",
    "\n",
    "Our toy example in this section is run in a very small sample of the full dataset.  In this section we implement \"Batch GradientDescent\", where the model is trained on a single file (representing the full dataset for this toy example) in each iteration.\n",
    "\n",
    "However, in Section 4, where we implement a scaled version of this algorithm, we will use a \"miniBatch GradientDescent\" implementation, where we process a much larger dataset that has been split into multiple files to process in each iteration of the gradient descent.\n",
    "\n",
    "[1] G. James, D. Witten, T. Hastie, R. Tibshirani, An Introduction to Statistical Learning, Springer, 2014.\n",
    "\n",
    "[2] https://ml-cheatsheet.readthedocs.io/en/latest/logistic_regression.html\n",
    "\n",
    "[3] http://www.holehouse.org/mlclass/06_Logistic_Regression.html\n",
    "\n",
    "[4] https://machinelearningmastery.com/logistic-regression-tutorial-for-machine-learning/\n",
    "\n",
    "[5] https://scikit-learn.org/stable/modules/linear_model.html#logistic-regression"
   ]
  },
  {
   "cell_type": "markdown",
   "metadata": {},
   "source": [
    "## 2.1: Toy Example Of Implementation  \n",
    "\n",
    "Implementation starts with feature selection (to be discussed in Section 3 on EDA), then pre-processing (which includes normalization and one-hot encoding of categorical features), and finally running it through our model training.\n",
    "\n",
    "Because feature selection will be covered below in Section 3 (EDA), here we just assume we have already decided which features to select for analysis.\n",
    "\n",
    "\n",
    "### One-Hot Encoding\n",
    "\n",
    "Cagetorical features (of which there are 26 in this dataset) cannot simply be translated into numbers within a single category.  Logistic regression treats numbers as having a mathematical or ranked relationship with other numbers in the same feature, and hashing categorical features to numbers would impose relationships between categories that might not actually exist.  A common solution to this problem is to one-hot encode categorical features, as described below.  One drawback of this solution is the potentially large number of features created by the one-hot encoding process - we address this problem in Section 3 on EDA below.\n",
    "\n",
    "One-Hot encoding is a way to transform categorical data into number representations to feed into machine learning models. The idea is highlighted below with a simple game summary of people after playing at a baseball tournament:\n",
    "\n",
    "|   Team   | FirstName | AtBats | Victory |\n",
    "|  ------  |  ------   | ------ | ------  |\n",
    "|   blue   |   sue     |   2    |    0    |\n",
    "|   green  |   bill    |   2    |    1    |\n",
    "|   green  |   jenn    |   3    |    1    |\n",
    "|   white  |   debb    |   4    |    0    |\n",
    "\n",
    "If you wanted to use this data to help predict victories using something like logistic regression, you would need to have an outcome row that has all number representations of the categorical variables.\n",
    "\n",
    "There are 3 steps for one-hot encoding our dataset:\n",
    "\n",
    "#### Step 1:\n",
    "\n",
    "For each of our categorical variable columns we are going to create an additional column that indexes the string values into numbers, which will be more computationally efficient to use later. So each unique value for each column gets assigned its own unique number and is used to represent that string in the index column (notice team green shows twice in the Team_index column as the number 1).\n",
    "\n",
    "| Team     | Team_index | FirstName | FirstName_index | AtBats | Victory |\n",
    "| ------   | ---------- | --------- | --------------- | ------ | ------  |\n",
    "|   blue   |      0     |    sue    |         0       |    2   |    0    |\n",
    "|   green  |      1     |    bill   |         1       |    2   |    1    |\n",
    "|   green  |      1     |    jenn   |         2       |    3   |    1    |\n",
    "|   white  |      2     |    debb   |         3       |    4   |    0    |\n",
    "\n",
    "After we have the index representation of the categorical values, we will drop the original columns\n",
    "\n",
    "| Team_index | FirstName_index | AtBats | Victory |\n",
    "| ---------- | --------------- | ------ | ------  |\n",
    "|      0     |         0       |    2   |    0    |\n",
    "|      1     |         1       |    2   |    1    |\n",
    "|      1     |         2       |    3   |    1    |\n",
    "|      2     |         3       |    4   |    0    |\n",
    "\n",
    "#### Step 2:\n",
    "\n",
    "Now that we have index representations of our categorical variables, we can efficiently start out one-hot encoding process for our categorical index columns only. Every unique value in each of our columns will get its own unique column with a value in the rows of either a 1 or 0 to represent if this row has that value, like so:  \n",
    "\n",
    "| Team_index=0 | Team_index=1 | Team_index=2 | FirstName_index=0 | FirstName_index=1 | FirstName_index=2|\n",
    "| -----------  | -----------  | -----------  | ----------------  | ----------------  | ----------------  |\n",
    "|      1       |      0       |      0       |         1         |         0         |         0         |\n",
    "|      0       |      1       |      0       |         0         |         1         |         0         |\n",
    "|      0       |      1       |      0       |         0         |         0         |         1         |\n",
    "|      0       |      0       |      1       |         0         |         0         |         0         |\n",
    "\n",
    "\n",
    "\n",
    " | FirstName_index=3 | AtBats | Victory |\n",
    " | ----------------  | ------ | ------  |\n",
    " |         0         |    2   |    0    |\n",
    " |        0         |    2   |    1    |\n",
    " |         0         |    3   |    1    |\n",
    "|         1         |    3   |    0    |\n",
    "\n",
    "\n",
    "Notice that `Team_index=1` column has 1 twice because each of the rows team were of index 1. Also note, we do not make any alterations to our continuous variables for this transformation because they are already numerical.\n",
    "\n",
    "#### Step 3:\n",
    "\n",
    "Technically our one-hot encoding is complete, but for much easier processing and storing, we are going to combine these into one column called `features` and another column `target`. The `features` column will be values of arrays of each of the values in the row and the `target` column will be our target outcome of previous column `Victory` per row.\n",
    "\n",
    "|           features          |  target   |\n",
    "| --------------------------  | --------- |\n",
    "|      [1,0,0,1,0,0,0,2]      |     0     |\n",
    "|      [0,1,0,0,1,0,0,2]      |     1     |\n",
    "|      [0,1,0,0,0,1,0,3]      |     1     |\n",
    "|      [0,0,1,0,0,0,1,3]      |     0     |"
   ]
  },
  {
   "cell_type": "code",
   "execution_count": null,
   "metadata": {
    "collapsed": true
   },
   "outputs": [],
   "source": [
    "# Use a sample file for running LOCALLY\n",
    "dataFile = 'data/sample_tiny.txt'"
   ]
  },
  {
   "cell_type": "code",
   "execution_count": 4,
   "metadata": {
    "collapsed": true
   },
   "outputs": [],
   "source": [
    "# Use a sample file for SHARED CLUSTER\n",
    "dataFile = 'gs://ads-impression-data/sample_tiny.txt'"
   ]
  },
  {
   "cell_type": "code",
   "execution_count": 5,
   "metadata": {},
   "outputs": [
    {
     "data": {
      "text/plain": [
       "[1.0,\n",
       " 1.0,\n",
       " 0.0,\n",
       " 1.0,\n",
       " 0.0,\n",
       " 'a73ee510',\n",
       " '86eb6d2e',\n",
       " '7833fda9',\n",
       " '2a52f3da',\n",
       " '952c94a3',\n",
       " 0]"
      ]
     },
     "execution_count": 5,
     "metadata": {},
     "output_type": "execute_result"
    }
   ],
   "source": [
    "cont_column_indexes = [i for i in range(0,5)]\n",
    "categorical_column_indexes = [i for i in range(5,10)]\n",
    "target_column_index = [10]\n",
    "\n",
    "columnNames = ['intCol1', 'intCol2','intCol3','intCol4','intCol5', \n",
    "               'catCol1', 'catCol2', 'catCol3', 'catCol4', 'catCol5', \n",
    "               'Y']\n",
    "category_vector_cols = [columnNames[i]+\"_vector\" for i in categorical_column_indexes]\n",
    "\n",
    "def get_toy_data(row):\n",
    "    \"\"\"Select feature subset of full dataset for use in toy dataset.\"\"\"\n",
    "    target = int(row[0])\n",
    "    toy_row = []                 \n",
    "    for idx, val in enumerate(row[1:]):\n",
    "        if idx in range(1,6):          # 5 continuous variables\n",
    "            if val == '':\n",
    "                toy_row.append(0.0)\n",
    "            else:\n",
    "                toy_row.append(float(val))\n",
    "        if idx in range(21,26):        # 5 category variables\n",
    "            if val == '':\n",
    "                toy_row.append('NA')\n",
    "            else:\n",
    "                toy_row.append(val)\n",
    "    toy_row.append(target)             # lastly target variable\n",
    "    return toy_row\n",
    "\n",
    "subsetRDD = sc.textFile(dataFile) \\\n",
    "            .map(lambda x: x.split('\\t')) \\\n",
    "            .map(get_toy_data) \\\n",
    "            .take(1000)\n",
    "\n",
    "dataRDD = sc.parallelize(subsetRDD).collect()\n",
    "dataRDD[0]"
   ]
  },
  {
   "cell_type": "code",
   "execution_count": 6,
   "metadata": {},
   "outputs": [
    {
     "name": "stdout",
     "output_type": "stream",
     "text": [
      "+-------+-------+-------+--------+-------+--------+--------+--------+--------+--------+---+\n",
      "|intCol1|intCol2|intCol3| intCol4|intCol5| catCol1| catCol2| catCol3| catCol4| catCol5|  Y|\n",
      "+-------+-------+-------+--------+-------+--------+--------+--------+--------+--------+---+\n",
      "|    1.0|    1.0|    0.0|     1.0|    0.0|a73ee510|86eb6d2e|7833fda9|2a52f3da|952c94a3|  0|\n",
      "|   13.0|    3.0|   12.0|     2.0|    6.0|a73ee510|70962768|ab066900|628b4b77|5d4198ed|  1|\n",
      "|    1.0|    7.0|   33.0|  7227.0|   68.0|a73ee510|ea23b002|f66047e5|f9adf54b|13c89cc4|  0|\n",
      "|    2.0|    4.0|    5.0|  2669.0|    0.0|a73ee510|3b08e48b|d66168dc|cc40dc05|54c30969|  0|\n",
      "|   13.0|    2.0|    2.0| 24553.0|  903.0|a73ee510|49d1ad89|7f8ffe57|6bb8dd1e|46f42a63|  0|\n",
      "|    0.0|   30.0|   10.0|   475.0|   12.0|a73ee510|3b08e48b|f58236c6|623049e6|8b11c4b8|  0|\n",
      "|    1.0|    6.0|    2.0|  1411.0|    0.0|a73ee510|441dd290|7f8ffe57|aadf08c8|46f42a63|  0|\n",
      "|    0.0|    5.0|    0.0|  4629.0|   49.0|a73ee510|222ae0ea|4ba74619|526efc5a|879fa878|  1|\n",
      "|    1.0|   13.0|    6.0|  4237.0|  118.0|a73ee510|4ba4ba06|0dc374d1|      NA|7b027a2b|  1|\n",
      "|    0.0|   20.0|   13.0|    33.0|   21.0|a73ee510|3b08e48b|9ffb3655|2436ff75|a0874a81|  0|\n",
      "|    3.0|    1.0|    0.0|  8439.0|   15.0|a73ee510|3b08e48b|d59f04ab|9eae5dcd|abb448e9|  0|\n",
      "|    3.0|    0.0|    0.0|  7057.0|  157.0|a73ee510|3b08e48b|a60de4e5|3c7ba2bb|605bbc24|  1|\n",
      "|    3.0|    1.0|    0.0|  7829.0|   89.0|a73ee510|5162b19c|7d4bba07|2436ff75|2fad1153|  0|\n",
      "|    0.0|    0.0|    0.0|140336.0|    0.0|7cc72ec2|d7026747|38f692a7|eeb07caf|6e5da64f|  0|\n",
      "|    0.0|   36.0|    1.0|  5650.0|  192.0|a73ee510|3b08e48b|058b2e38|d8c29807|35323fda|  0|\n",
      "|    0.0|   35.0|    8.0|  2928.0|   21.0|a73ee510|49066f14|d9085127|49fee879|ef7e2c01|  0|\n",
      "|   47.0|   30.0|   24.0|   129.0| 1417.0|a73ee510|4b50516d|1de95640|9fa694f3|665d1a83|  0|\n",
      "| 1244.0|    0.0|    0.0| 28732.0|   92.0|a73ee510|4ed88d64|f25fe7e9|21a23bfe|dd183b4c|  0|\n",
      "|  227.0|    0.0|    0.0|  1146.0|    7.0|a73ee510|27603d05|6263d404|ce265018|aa1eb12e|  1|\n",
      "|    0.0|   23.0|    0.0| 44593.0| 1015.0|a73ee510|3b08e48b|86311ee4|c96e9862|315f4dc4|  0|\n",
      "+-------+-------+-------+--------+-------+--------+--------+--------+--------+--------+---+\n",
      "only showing top 20 rows\n",
      "\n"
     ]
    }
   ],
   "source": [
    "def create_dataframe(dataRDD):\n",
    "    \"\"\"\n",
    "    This takes in the original RDD and converts it to a dataframe with the correct schema \n",
    "    for the toy dataset\n",
    "    Args:\n",
    "        row - array([intCol1, intCol2, ..., catCol4, catCol5, targetVariable]) \n",
    "    Returns:\n",
    "        dataFrame - | intCol1 | intCol2| ... | catCol4 | catcol5 | targetVariable | \n",
    "    \"\"\"\n",
    "    cont_schema = [StructField(columnNames[i], FloatType(), True) for i in cont_column_indexes]\n",
    "    cat_schema = [StructField(columnNames[i], StringType(), True) for i in categorical_column_indexes]\n",
    "    int_schema = [StructField(columnNames[i], IntegerType(), True) for i in target_column_index]\n",
    "    schema_order = cont_schema + cat_schema + int_schema\n",
    "    schema = StructType(schema_order)\n",
    "    df = spark.createDataFrame(dataRDD, schema)\n",
    "    return df\n",
    "dataDF    = create_dataframe(dataRDD)\n",
    "dataDF.show()"
   ]
  },
  {
   "cell_type": "code",
   "execution_count": 7,
   "metadata": {},
   "outputs": [
    {
     "name": "stdout",
     "output_type": "stream",
     "text": [
      "+-------+-------+-------+--------+-------+---+-------------+-------------+-------------+-------------+-------------+\n",
      "|intCol1|intCol2|intCol3| intCol4|intCol5|  Y|catCol1_index|catCol2_index|catCol3_index|catCol4_index|catCol5_index|\n",
      "+-------+-------+-------+--------+-------+---+-------------+-------------+-------------+-------------+-------------+\n",
      "|    1.0|    1.0|    0.0|     1.0|    0.0|  0|          0.0|        405.0|        447.0|        501.0|        214.0|\n",
      "|   13.0|    3.0|   12.0|     2.0|    6.0|  1|          0.0|         42.0|        161.0|        328.0|         83.0|\n",
      "|    1.0|    7.0|   33.0|  7227.0|   68.0|  0|          0.0|        128.0|        553.0|         80.0|        357.0|\n",
      "|    2.0|    4.0|    5.0|  2669.0|    0.0|  0|          0.0|          0.0|        104.0|        178.0|         16.0|\n",
      "|   13.0|    2.0|    2.0| 24553.0|  903.0|  0|          0.0|          7.0|          3.0|        597.0|          3.0|\n",
      "|    0.0|   30.0|   10.0|   475.0|   12.0|  0|          0.0|          0.0|        481.0|          8.0|        427.0|\n",
      "|    1.0|    6.0|    2.0|  1411.0|    0.0|  0|          0.0|         80.0|          3.0|        664.0|          3.0|\n",
      "|    0.0|    5.0|    0.0|  4629.0|   49.0|  1|          0.0|        447.0|          7.0|        268.0|          9.0|\n",
      "|    1.0|   13.0|    6.0|  4237.0|  118.0|  1|          0.0|        353.0|        361.0|          0.0|        285.0|\n",
      "|    0.0|   20.0|   13.0|    33.0|   21.0|  0|          0.0|          0.0|         43.0|          3.0|         70.0|\n",
      "|    3.0|    1.0|    0.0|  8439.0|   15.0|  0|          0.0|          0.0|        485.0|        420.0|        271.0|\n",
      "|    3.0|    0.0|    0.0|  7057.0|  157.0|  1|          0.0|          0.0|          9.0|         44.0|         11.0|\n",
      "|    3.0|    1.0|    0.0|  7829.0|   89.0|  0|          0.0|         10.0|        322.0|          3.0|         60.0|\n",
      "|    0.0|    0.0|    0.0|140336.0|    0.0|  0|          1.0|         21.0|         23.0|        126.0|         10.0|\n",
      "|    0.0|   36.0|    1.0|  5650.0|  192.0|  0|          0.0|          0.0|        231.0|          4.0|        463.0|\n",
      "|    0.0|   35.0|    8.0|  2928.0|   21.0|  0|          0.0|        462.0|         31.0|         73.0|         39.0|\n",
      "|   47.0|   30.0|   24.0|   129.0| 1417.0|  0|          0.0|        551.0|        541.0|         70.0|        208.0|\n",
      "| 1244.0|    0.0|    0.0| 28732.0|   92.0|  0|          0.0|        517.0|          8.0|         11.0|         12.0|\n",
      "|  227.0|    0.0|    0.0|  1146.0|    7.0|  1|          0.0|        242.0|        363.0|        705.0|        492.0|\n",
      "|    0.0|   23.0|    0.0| 44593.0| 1015.0|  0|          0.0|          0.0|        288.0|        588.0|        430.0|\n",
      "+-------+-------+-------+--------+-------+---+-------------+-------------+-------------+-------------+-------------+\n",
      "only showing top 20 rows\n",
      "\n"
     ]
    }
   ],
   "source": [
    "def create_column_indexes(df):\n",
    "    \"\"\"\n",
    "    This takes the dataframe and converts all categorical variables columns to index columns \n",
    "    with one unique number representing one unique string in that column using StringIndexer.\n",
    "    This then drops the original categorical columns.\n",
    "    Args:\n",
    "        dataFrame - | intCol1 | intCol2| ... | catCol4 | catcol5 | targetVariable | \n",
    "    Returns:\n",
    "        dataFrame - | intCol1 | intCol2| ... | indexCatCol4 | indexCatcol5 | targetVariable | \n",
    "    \"\"\"\n",
    "    indexers = [StringIndexer(inputCol=columnNames[i], outputCol=columnNames[i]+\"_index\").fit(df) for \n",
    "                i in categorical_column_indexes ]\n",
    "    pipeline = Pipeline(stages=indexers)\n",
    "    df_r = pipeline.fit(df).transform(df)\n",
    "    for i in categorical_column_indexes:\n",
    "        df_r = df_r.drop(columnNames[i])\n",
    "    return df_r\n",
    "indexDF   = create_column_indexes(dataDF)\n",
    "indexDF.show()"
   ]
  },
  {
   "cell_type": "code",
   "execution_count": 8,
   "metadata": {},
   "outputs": [
    {
     "name": "stdout",
     "output_type": "stream",
     "text": [
      "+-------+-------+-------+--------+-------+---+-------------+-------------+-------------+-------------+-------------+--------------+-----------------+-----------------+-----------------+-----------------+\n",
      "|intCol1|intCol2|intCol3| intCol4|intCol5|  Y|catCol1_index|catCol2_index|catCol3_index|catCol4_index|catCol5_index|catCol1_vector|   catCol2_vector|   catCol3_vector|   catCol4_vector|   catCol5_vector|\n",
      "+-------+-------+-------+--------+-------+---+-------------+-------------+-------------+-------------+-------------+--------------+-----------------+-----------------+-----------------+-----------------+\n",
      "|    1.0|    1.0|    0.0|     1.0|    0.0|  0|          0.0|        405.0|        447.0|        501.0|        214.0| (1,[0],[1.0])|(581,[405],[1.0])|(566,[447],[1.0])|(719,[501],[1.0])|(515,[214],[1.0])|\n",
      "|   13.0|    3.0|   12.0|     2.0|    6.0|  1|          0.0|         42.0|        161.0|        328.0|         83.0| (1,[0],[1.0])| (581,[42],[1.0])|(566,[161],[1.0])|(719,[328],[1.0])| (515,[83],[1.0])|\n",
      "|    1.0|    7.0|   33.0|  7227.0|   68.0|  0|          0.0|        128.0|        553.0|         80.0|        357.0| (1,[0],[1.0])|(581,[128],[1.0])|(566,[553],[1.0])| (719,[80],[1.0])|(515,[357],[1.0])|\n",
      "|    2.0|    4.0|    5.0|  2669.0|    0.0|  0|          0.0|          0.0|        104.0|        178.0|         16.0| (1,[0],[1.0])|  (581,[0],[1.0])|(566,[104],[1.0])|(719,[178],[1.0])| (515,[16],[1.0])|\n",
      "|   13.0|    2.0|    2.0| 24553.0|  903.0|  0|          0.0|          7.0|          3.0|        597.0|          3.0| (1,[0],[1.0])|  (581,[7],[1.0])|  (566,[3],[1.0])|(719,[597],[1.0])|  (515,[3],[1.0])|\n",
      "|    0.0|   30.0|   10.0|   475.0|   12.0|  0|          0.0|          0.0|        481.0|          8.0|        427.0| (1,[0],[1.0])|  (581,[0],[1.0])|(566,[481],[1.0])|  (719,[8],[1.0])|(515,[427],[1.0])|\n",
      "|    1.0|    6.0|    2.0|  1411.0|    0.0|  0|          0.0|         80.0|          3.0|        664.0|          3.0| (1,[0],[1.0])| (581,[80],[1.0])|  (566,[3],[1.0])|(719,[664],[1.0])|  (515,[3],[1.0])|\n",
      "|    0.0|    5.0|    0.0|  4629.0|   49.0|  1|          0.0|        447.0|          7.0|        268.0|          9.0| (1,[0],[1.0])|(581,[447],[1.0])|  (566,[7],[1.0])|(719,[268],[1.0])|  (515,[9],[1.0])|\n",
      "|    1.0|   13.0|    6.0|  4237.0|  118.0|  1|          0.0|        353.0|        361.0|          0.0|        285.0| (1,[0],[1.0])|(581,[353],[1.0])|(566,[361],[1.0])|  (719,[0],[1.0])|(515,[285],[1.0])|\n",
      "|    0.0|   20.0|   13.0|    33.0|   21.0|  0|          0.0|          0.0|         43.0|          3.0|         70.0| (1,[0],[1.0])|  (581,[0],[1.0])| (566,[43],[1.0])|  (719,[3],[1.0])| (515,[70],[1.0])|\n",
      "|    3.0|    1.0|    0.0|  8439.0|   15.0|  0|          0.0|          0.0|        485.0|        420.0|        271.0| (1,[0],[1.0])|  (581,[0],[1.0])|(566,[485],[1.0])|(719,[420],[1.0])|(515,[271],[1.0])|\n",
      "|    3.0|    0.0|    0.0|  7057.0|  157.0|  1|          0.0|          0.0|          9.0|         44.0|         11.0| (1,[0],[1.0])|  (581,[0],[1.0])|  (566,[9],[1.0])| (719,[44],[1.0])| (515,[11],[1.0])|\n",
      "|    3.0|    1.0|    0.0|  7829.0|   89.0|  0|          0.0|         10.0|        322.0|          3.0|         60.0| (1,[0],[1.0])| (581,[10],[1.0])|(566,[322],[1.0])|  (719,[3],[1.0])| (515,[60],[1.0])|\n",
      "|    0.0|    0.0|    0.0|140336.0|    0.0|  0|          1.0|         21.0|         23.0|        126.0|         10.0|     (1,[],[])| (581,[21],[1.0])| (566,[23],[1.0])|(719,[126],[1.0])| (515,[10],[1.0])|\n",
      "|    0.0|   36.0|    1.0|  5650.0|  192.0|  0|          0.0|          0.0|        231.0|          4.0|        463.0| (1,[0],[1.0])|  (581,[0],[1.0])|(566,[231],[1.0])|  (719,[4],[1.0])|(515,[463],[1.0])|\n",
      "|    0.0|   35.0|    8.0|  2928.0|   21.0|  0|          0.0|        462.0|         31.0|         73.0|         39.0| (1,[0],[1.0])|(581,[462],[1.0])| (566,[31],[1.0])| (719,[73],[1.0])| (515,[39],[1.0])|\n",
      "|   47.0|   30.0|   24.0|   129.0| 1417.0|  0|          0.0|        551.0|        541.0|         70.0|        208.0| (1,[0],[1.0])|(581,[551],[1.0])|(566,[541],[1.0])| (719,[70],[1.0])|(515,[208],[1.0])|\n",
      "| 1244.0|    0.0|    0.0| 28732.0|   92.0|  0|          0.0|        517.0|          8.0|         11.0|         12.0| (1,[0],[1.0])|(581,[517],[1.0])|  (566,[8],[1.0])| (719,[11],[1.0])| (515,[12],[1.0])|\n",
      "|  227.0|    0.0|    0.0|  1146.0|    7.0|  1|          0.0|        242.0|        363.0|        705.0|        492.0| (1,[0],[1.0])|(581,[242],[1.0])|(566,[363],[1.0])|(719,[705],[1.0])|(515,[492],[1.0])|\n",
      "|    0.0|   23.0|    0.0| 44593.0| 1015.0|  0|          0.0|          0.0|        288.0|        588.0|        430.0| (1,[0],[1.0])|  (581,[0],[1.0])|(566,[288],[1.0])|(719,[588],[1.0])|(515,[430],[1.0])|\n",
      "+-------+-------+-------+--------+-------+---+-------------+-------------+-------------+-------------+-------------+--------------+-----------------+-----------------+-----------------+-----------------+\n",
      "only showing top 20 rows\n",
      "\n"
     ]
    }
   ],
   "source": [
    "def one_hot_encode_df(df_r):\n",
    "    \"\"\"\n",
    "    This takes the dataframe that has had its categorical variables transformed to index columns\n",
    "    and outputs a one-hot-encoded vector dataframe using OneHotEncoder that creates a new column \n",
    "    for each index column that has the value of a binary vector \n",
    "    where at most one value will be 1 and the rest 0s.\n",
    "    Args:\n",
    "        dataFrame - | intCol1 | intCol2| ... | indexCatCol4 | indexCatcol5 | targetVariable | \n",
    "    Returns:\n",
    "        dataFrame - | intCol1 | intCol2| ... | vectorCatCol4 | vectorCatcol5 | targetVariable | \n",
    "    \"\"\"\n",
    "    encoded_df = df_r\n",
    "    encoders = {}\n",
    "    for i in range(len(categorical_column_indexes)):\n",
    "        encoders[i] = OneHotEncoder(inputCol=columnNames[categorical_column_indexes[i]] + \"_index\", \n",
    "                                    outputCol=columnNames[categorical_column_indexes[i]] +\"_vector\")\n",
    "    for i in range(len(categorical_column_indexes)):\n",
    "        encoded_df = encoders[i].transform(encoded_df)\n",
    "    return encoded_df\n",
    "encodedDF = one_hot_encode_df(indexDF)\n",
    "encodedDF.show()"
   ]
  },
  {
   "cell_type": "code",
   "execution_count": 9,
   "metadata": {},
   "outputs": [
    {
     "name": "stdout",
     "output_type": "stream",
     "text": [
      "+--------------------+---+\n",
      "|            features|  Y|\n",
      "+--------------------+---+\n",
      "|(2387,[0,1,3,5,41...|  0|\n",
      "|(2387,[0,1,2,3,4,...|  1|\n",
      "|(2387,[0,1,2,3,4,...|  0|\n",
      "|(2387,[0,1,2,3,5,...|  0|\n",
      "|(2387,[0,1,2,3,4,...|  0|\n",
      "|(2387,[1,2,3,4,5,...|  0|\n",
      "|(2387,[0,1,2,3,5,...|  0|\n",
      "|(2387,[1,3,4,5,45...|  1|\n",
      "|(2387,[0,1,2,3,4,...|  1|\n",
      "|(2387,[1,2,3,4,5,...|  0|\n",
      "|(2387,[0,1,3,4,5,...|  0|\n",
      "|(2387,[0,3,4,5,6,...|  1|\n",
      "|(2387,[0,1,3,4,5,...|  0|\n",
      "|(2387,[3,27,610,1...|  0|\n",
      "|(2387,[1,2,3,4,5,...|  0|\n",
      "|(2387,[1,2,3,4,5,...|  0|\n",
      "|(2387,[0,1,2,3,4,...|  0|\n",
      "|(2387,[0,3,4,5,52...|  0|\n",
      "|(2387,[0,3,4,5,24...|  1|\n",
      "|(2387,[1,3,4,5,6,...|  0|\n",
      "+--------------------+---+\n",
      "only showing top 20 rows\n",
      "\n"
     ]
    }
   ],
   "source": [
    "def assemble_vector(encoded_df):\n",
    "    \"\"\"\n",
    "    This takes the dataframe with the continuous, vector, and target variable columns and uses VectorAssembler\n",
    "    to combine them into one dataframe with 2 columns, one with the combined features and the other for the target\n",
    "    variable.\n",
    "    Args:\n",
    "        dataFrame - | intCol1 | intCol2| ... | vectorCatCol4 | vectorCatcol5 | targetVariable | \n",
    "    Returns:\n",
    "        dataFrame - | features | targetVariable | \n",
    "    \"\"\"\n",
    "    assembler = VectorAssembler(\n",
    "        inputCols= [columnNames[i] for i in cont_column_indexes] + category_vector_cols,\n",
    "        outputCol=\"features\")\n",
    "    output = assembler.transform(encoded_df)\n",
    "    vector_df = output.select('features', 'Y')\n",
    "    return vector_df\n",
    "\n",
    "\n",
    "vectorDF  = assemble_vector(encodedDF)\n",
    "vectorDF.show()"
   ]
  },
  {
   "cell_type": "code",
   "execution_count": 10,
   "metadata": {
    "collapsed": true
   },
   "outputs": [],
   "source": [
    "# turn DF to RDD and select the first 10 columns for a toy example\n",
    "toyRDD    = vectorDF.rdd.map(lambda line: (np.array(line[0]), line[1]))\\\n",
    "                        .map(lambda x: (x[0][:10], x[1]))\\\n",
    "                        .cache()"
   ]
  },
  {
   "cell_type": "markdown",
   "metadata": {},
   "source": [
    "### Normalization of data\n",
    "\n",
    "We split the data into train, dev, test set, and scale the features using the mean and stdev of the train set."
   ]
  },
  {
   "cell_type": "code",
   "execution_count": 11,
   "metadata": {},
   "outputs": [
    {
     "name": "stdout",
     "output_type": "stream",
     "text": [
      "... held out 222 records for test and assigned 681 for training           \n",
      "and 97 for development.\n"
     ]
    }
   ],
   "source": [
    "# First we split the toyRDD into 3 RDDs and normalize the scale using Train data\n",
    "\n",
    "# part d - helper function to split and normalize the data \n",
    "def normalize_and_split_3(dataRDD):\n",
    "    \"\"\"\n",
    "    Scale and center data round mean of each feature of train and split into train, dev and test\n",
    "    Args:\n",
    "        dataRDD - records are tuples of (features_array, y)\n",
    "    Returns:\n",
    "        NormedTrainRDD, NormedDevRDD, NormedTestRDD - records are tuples of (features_array, y)\n",
    "    \"\"\"\n",
    "    # Split the data into Train, Dev, Test #######################################\n",
    "    TrainRDD, EvalRDD, TestRDD = dataRDD.randomSplit([0.70, 0.10, 0.20], seed = 1)\n",
    "    print(f\"... held out {TestRDD.count()} records for test and assigned {TrainRDD.count()} for training \\\n",
    "          \\nand {EvalRDD.count()} for development.\")\n",
    "    \n",
    "    # Find the Mean and Stdev of the train set ###################################\n",
    "    TrainFeatureMeans = TrainRDD.map(lambda x: x[0]).mean()\n",
    "    TrainFeatureStdev = np.sqrt(TrainRDD.map(lambda x: x[0]).variance())\n",
    "    \n",
    "    # Normalize the data sets #####################################################\n",
    "    NormedTrainRDD = TrainRDD.map(lambda x: ((x[0] - TrainFeatureMeans)/TrainFeatureStdev, x[1]))\n",
    "    NormedDevRDD = EvalRDD.map(lambda x: ((x[0] - TrainFeatureMeans)/TrainFeatureStdev, x[1]))\n",
    "    NormedTestRDD = TestRDD.map(lambda x: ((x[0] - TrainFeatureMeans)/TrainFeatureStdev, x[1]))\n",
    "    \n",
    "    return NormedTrainRDD, NormedDevRDD, NormedTestRDD\n",
    "\n",
    "# Run the function to get train, dev, test set\n",
    "NormedTrainRDD, NormedDevRDD, NormedTestRDD = normalize_and_split_3(toyRDD)"
   ]
  },
  {
   "cell_type": "markdown",
   "metadata": {},
   "source": [
    "Next, we define a baseline model using the P(Y=1) estimate based on the train set."
   ]
  },
  {
   "cell_type": "code",
   "execution_count": 12,
   "metadata": {},
   "outputs": [
    {
     "name": "stdout",
     "output_type": "stream",
     "text": [
      "Estimated P(Y=1): 0.25256975036710705\n",
      "Logit of P(Y=1): -1.0849535397370704\n"
     ]
    }
   ],
   "source": [
    "# part a - mean and variance of the outcome variable \n",
    "meanQuality = NormedTrainRDD.map(lambda x: x[1]).mean()             \n",
    "\n",
    "# Inverse of logistic\n",
    "def logit(p):\n",
    "    return np.log(p / (1 - p))\n",
    "\n",
    "print(f\"Estimated P(Y=1): {meanQuality}\")\n",
    "print(f\"Logit of P(Y=1): {logit(meanQuality)}\")\n",
    "\n",
    "# define your baseline model here\n",
    "BASELINE = np.append([logit(meanQuality)], np.zeros(NormedTrainRDD.take(1)[0][0].shape[0]))"
   ]
  },
  {
   "cell_type": "markdown",
   "metadata": {},
   "source": [
    "We define the Cross-Entropy Loss function and calculate the loss for Train, Dev, Test for the BASELINE model:"
   ]
  },
  {
   "cell_type": "code",
   "execution_count": 13,
   "metadata": {
    "collapsed": true
   },
   "outputs": [],
   "source": [
    "# function to compute Cross-Entropy loss \n",
    "def CELoss(dataRDD, W):\n",
    "    \"\"\"\n",
    "    Compute Cross Entropy Loss\n",
    "    Args:\n",
    "        dataRDD - each record is a tuple of (features_array, y)\n",
    "        W       - (array) model coefficients with bias at index 0\n",
    "    \"\"\"\n",
    "    # sigmoid function for calculating the logistic\n",
    "    sigmoid = np.vectorize(lambda x: 1/(1+math.exp(-x)))\n",
    "    \n",
    "    # Note the features need to be augmented to be (1, features) since W has bias at index 0\n",
    "    augmentedData = dataRDD.map(lambda x: (np.append([1.0], x[0]), x[1]))\n",
    "\n",
    "    w = sc.broadcast(W)   \n",
    "    loss = augmentedData.map(lambda x: (-np.log(sigmoid(np.dot(w.value, x[0]))) * x[1])-(1-x[1])*np.log(1-sigmoid(np.dot(w.value, x[0]))))\\\n",
    "                        .mean()\n",
    "    \n",
    "    return loss"
   ]
  },
  {
   "cell_type": "code",
   "execution_count": 14,
   "metadata": {},
   "outputs": [
    {
     "name": "stdout",
     "output_type": "stream",
     "text": [
      "Baseline model loss on Train: 0.5651407342902904\n",
      "Baseline model loss on Dev: 0.5707414905621517\n",
      "Baseline model loss on Test: 0.545247551159024\n"
     ]
    }
   ],
   "source": [
    "#  compute the loss for the baseline model \n",
    "assert len(BASELINE) == len(NormedTrainRDD.take(1)[0][0]) + 1, \"Double check model dimensions\"\n",
    "print(f\"Baseline model loss on Train: {CELoss(NormedTrainRDD, BASELINE)}\")\n",
    "print(f\"Baseline model loss on Dev: {CELoss(NormedDevRDD, BASELINE)}\")\n",
    "print(f\"Baseline model loss on Test: {CELoss(NormedTestRDD, BASELINE)}\")"
   ]
  },
  {
   "cell_type": "markdown",
   "metadata": {},
   "source": [
    "We define the functions for gradient descent:"
   ]
  },
  {
   "cell_type": "code",
   "execution_count": 15,
   "metadata": {
    "collapsed": true
   },
   "outputs": [],
   "source": [
    "# function for running one-step of gradient descent with regularization\n",
    "def GDUpdate_wReg(dataRDD, W, learningRate = 0.1, regType = None, regParam = 0.1):\n",
    "    \"\"\"\n",
    "    Perform one gradient descent step/update with ridge or lasso regularization.\n",
    "    Args:\n",
    "        dataRDD - tuple of (features_array, y)\n",
    "        W       - (array) model coefficients with bias at index 0\n",
    "        learningRate - (float) defaults to 0.1\n",
    "        regType - (str) 'ridge' or 'lasso', defaults to None\n",
    "        regParam - (float) regularization term coefficient\n",
    "    Returns:\n",
    "        model   - (array) updated coefficients, bias still at index 0\n",
    "    \"\"\"\n",
    "    # define the sigmoid function\n",
    "    sigmoid = np.vectorize(lambda x: 1/(1+math.exp(-x)))  \n",
    "    \n",
    "    # note the features need to be augmented to (1, features) since W has bias at index 0\n",
    "    augmentedData = dataRDD.map(lambda x: (np.append([1.0], x[0]), x[1]))    \n",
    "    \n",
    "    new_model = None\n",
    "    \n",
    "    w = sc.broadcast(W)\n",
    "    \n",
    "    if regType == 'ridge':\n",
    "        grad = augmentedData.map(lambda x: 2*(sigmoid(np.dot(x[0], w.value)) - x[1]) * x[0]).mean() + np.append([0], 2 * regParam * W[1:])\n",
    "    elif regType == 'lasso':\n",
    "        grad = augmentedData.map(lambda x: 2*(sigmoid(np.dot(x[0], w.value)) - x[1]) * x[0]).mean() + np.append([0], regParam * np.sign(W[1:]))\n",
    "    else:        \n",
    "        grad = augmentedData.map(lambda x: 2*(sigmoid(np.dot(x[0], w.value)) - x[1]) * x[0]).mean()\n",
    "      \n",
    "    new_model = W - learningRate * grad        \n",
    "    \n",
    "    return new_model"
   ]
  },
  {
   "cell_type": "code",
   "execution_count": 16,
   "metadata": {
    "collapsed": true
   },
   "outputs": [],
   "source": [
    "#  function for running regular/ridge/lasso gradient descent interations\n",
    "def Batch_GD(trainRDD, devRDD, wInit, nSteps = 20, learningRate = 0.1,\n",
    "                         regType = None, regParam = 0.1, verbose = False, evaluate_every = 10):\n",
    "    \"\"\"\n",
    "    Perform nSteps iterations of regularized gradient descent and \n",
    "    track loss on a dev and train set. Return lists of\n",
    "    dev/train loss and the models themselves.\n",
    "    \"\"\"\n",
    "    # initialize lists to track model performance\n",
    "    train_history, dev_history, model_history = [], [], []\n",
    "    \n",
    "    # perform n updates & compute test and train loss after each\n",
    "    model = wInit\n",
    "    \n",
    "    start = time.time()\n",
    "    \n",
    "    for idx in range(nSteps):  \n",
    "        # update the model\n",
    "        model = GDUpdate_wReg(trainRDD, model, learningRate, regType, regParam)\n",
    "        \n",
    "        # calculate loss and save model only at \"evaluate_every\" intervals and at the end\n",
    "        if idx == (nSteps-1) or idx == 0 or (idx+1) % evaluate_every == 0:\n",
    "            # keep track of dev/train loss for plotting\n",
    "            training_loss = CELoss(trainRDD, model)\n",
    "            dev_loss = CELoss(devRDD, model)\n",
    "            \n",
    "            train_history.append(training_loss)\n",
    "            dev_history.append(dev_loss)\n",
    "            model_history.append(model)\n",
    "\n",
    "            # console output if desired\n",
    "            if verbose:\n",
    "                print(\"----------\")\n",
    "                print(f\"STEP: {idx+1}\")\n",
    "                print(f\"training loss: {np.round(training_loss,4)}\")\n",
    "                print(f\"eval loss: {np.round(dev_loss,4)}\")\n",
    "                \n",
    "    print(f\"\\n... trained {nSteps} iterations in {time.time() - start} seconds\")            \n",
    "                \n",
    "    return train_history, dev_history, model_history"
   ]
  },
  {
   "cell_type": "code",
   "execution_count": 17,
   "metadata": {},
   "outputs": [
    {
     "name": "stdout",
     "output_type": "stream",
     "text": [
      "----------\n",
      "STEP: 1\n",
      "training loss: 0.5637\n",
      "eval loss: 0.57\n",
      "----------\n",
      "STEP: 10\n",
      "training loss: 0.5549\n",
      "eval loss: 0.5657\n",
      "----------\n",
      "STEP: 20\n",
      "training loss: 0.5499\n",
      "eval loss: 0.5633\n",
      "----------\n",
      "STEP: 30\n",
      "training loss: 0.5471\n",
      "eval loss: 0.5619\n",
      "----------\n",
      "STEP: 40\n",
      "training loss: 0.5454\n",
      "eval loss: 0.5608\n",
      "----------\n",
      "STEP: 50\n",
      "training loss: 0.5442\n",
      "eval loss: 0.56\n",
      "\n",
      "... trained 50 iterations in 7.233808517456055 seconds\n"
     ]
    }
   ],
   "source": [
    "# run 50 iterations without regularization\n",
    "wInit = BASELINE\n",
    "\n",
    "results = Batch_GD(NormedTrainRDD, NormedDevRDD, wInit, nSteps = 50, verbose=True, evaluate_every=10)\n",
    "\n",
    "train_loss, dev_loss, models = results"
   ]
  },
  {
   "cell_type": "markdown",
   "metadata": {},
   "source": [
    "## Section 3: EDA & Discussion of Challenges"
   ]
  },
  {
   "cell_type": "markdown",
   "metadata": {},
   "source": [
    "### 3.1 General Observations about the data\n",
    " -  There are over 45M records.   \n",
    " -  We have randomly assigned 80% of the data for training our models.  \n",
    " -  Data is randomly split into 100 individual files so train/test split is achieved by reading the appropriate files.\n",
    " -  There are 13 integer variables and 26 hashed categorical variables and one Outcome variable.   \n",
    " -  We will use the following labeling convention for the variables in the dataset:  \n",
    "    -  Y: outcome  \n",
    "    -  x01-x13: Integer valued features  \n",
    "    -  c01-c26: categorical features (hashed values)   \n",
    "    \n",
    "### 3.2 Random Split and Scaling  \n",
    "- Using Unix shell scripting, we read the 45M record train.txt dataset and partitioned it randomly into 100 smaller files. \n",
    "- This enabled us to test our code on a 1% random sample (by just reading 1 of the input files)\n",
    "- It allowed us to compute some statistics very quickly on a 10% sample when we could justify using a random sample (eg t-tests for the continuous variables against the outcome) \n",
    "- We were also able to use the same mechanism to split our training data into train/dev groups for model training and testing.\n",
    "- Lastly, we intended to use this as a way to measure how scalable our code is. So we could run our code on an increasing subset of the original training data (say 1%, 10%, 20%, 30% etc.) and plot the time taken to process the data. A well designed scalable code should show linear performance (i.e. it should take us twice as long to process twice as much data given the same amount of computing power).  We did not have time to conduct the scaling experiment as explained above; this would be a good next step to add for critical evaluation of the scalability of our implementation.  \n",
    "\n",
    "### 3.3 Missing Values \n",
    "-  Outcome variable Y has zero missing values.\n",
    "-  Integer variables (x01 - x13) have missing values. \n",
    "    -  Variables with very few missing values: x02, x05, x07, x08, x09, x11;  \n",
    "    -  x03, x04, x06, x13 have about 20% missing values; \n",
    "    -  x01, x10 have about 45% missing and x12 has 76% missing. \n",
    "-  Categorical Variables (c01-c26): some have a lot of missing values as well. \n",
    "    -  c01-c05; c07-c18, c23, c24 have very few missing values (less than 4%).  \n",
    "    -  c06 has about 12% missing;  \n",
    "    -  c19,c20,c25,c26 have 44% missing and c22 has 76% missing.  \n",
    "    \n",
    "#### 3.3.1 Recommendations on how to handle missing values in the data:  \n",
    "\n",
    "-  Integer variables:  Some of the integer valued variables may be treated as \"discrete\" or categorical variables (see below on how to handle missing variables for categorical variables).  The remaining integer-valued variables can be treated as \"continuous\" variables; Recommend treating missing values by replacing them with the mean value for the feature.\n",
    "\n",
    "-  Categorical variables: Missing values can be treated as a category of its own during the one-hot encoding process. \n",
    "\n",
    "\n",
    "### 3.4 Count of Unique values:   \n",
    "\n",
    "-  __Integer variables:__  Variables x10, x11 have relatively few unique values suggesting that we may be able treat these as categorical variables. The simplest approach would be to treat other integer variables as continuous numerical data in the first cut of our data analysis.\n",
    "\n",
    "-  __Categorical variables:__ There are some categorical variables that have relatively few unique levels/values (like c06, c09, c14, c18, c20, c22, c23).  There are a few where there are more levels (in the 100-500 range) but many of those unique values have very few records associated with them. And there are many categorical variables that have many unique entries (e.g. c04, c07, c16).  \n",
    "-  __CHALLENGES__: The extremely large number of unique values (levels) for many of the categorical variables presents a great challenge for modeling.  If we want to retain all the levels using one-hot encoding, we will be dealing with a massively large dimensional problem - in addition, there are not many records for many of these levels.    \n",
    "-  __Recommendations:__  Based on the observations of unique values, here are the recommendations for how to handle categorical variables - so that we can reduce the dimensionality of the data significantly.  \n",
    "    -   For each variable, combine all values that have very few counts (less than 100) into a separate \"small count\" category for that variable.   \n",
    "    -  For those categorical variables with  few distinct levels (after handling small counts as above), we can handle those as-is.  There are grouped in the EDA code below under `CompactCategoricalVariables`  \n",
    "    - Criteria for selecting features into `CompactCategoricalVariables`: We looked at the count of unique values for each categorical variable (after accumulating all the values with small counts) - and treated any variable that had less than 200 unique values as \"Compact\". Unique values after accumulating small counts are identified in the `rest` column in the output to the `uniqueCountStats` function below.\n",
    "    -  For categorical variables that have many levels (after handling those with small counts) we will process them as follows. These are grouped under the variable `LongCategoricalVariables` in the EDA code below.\n",
    "        -  bucket the levels into 3 groups based on the % records with outcome Y = 0\n",
    "        -  Low0: all levels for the variable where % of records with outcome Y=0 is less than 30%\n",
    "        -  Mid0: all levels for the variable where % of records with outcome Y=0 is between 30% and 70%\n",
    "        - High0: all levels for the variable where % of records with outcome Y=0 is > 70%\n",
    "\n",
    "\n",
    "\n"
   ]
  },
  {
   "cell_type": "markdown",
   "metadata": {},
   "source": [
    "### 3.5 Feature Selection Criteria:\n",
    "-  __Integer Variables:__  For those integer variables that are to be treated as \"continuous\" conduct a t-test of means for Y=1 vs Y=0.  Use the p-value of this test to determine if a variable is to be included in the model.  Based on the actual test results - we kept all the continuous variables for the final model.\n",
    "\n",
    "-  __Categorical variables:__  For all the variables treated as \"categorical variables\" (including the integer variables that are to be treated as categorical variables),  conduct a chi-square test of independence between each categorical variable and the outcome variable.  Compute $Cramer's V^1$ statistic to get a measure of the association between the outcome variable and the feature.  We can use this as a way to select the features to include in our model.  We used a cutoff point of 0.15 for Cramer's V value.  This resulted in 16 catgeorical variables that were used the modeling phase. We could potentially change the criteria for feature selection to see if we can achieve similar results with a simpler model.   \n",
    "\n",
    "$^1$Cramér, Harald. 1946. Mathematical Methods of Statistics. Princeton: Princeton University Press, page 282 (Chapter 21. The two-dimensional case)."
   ]
  },
  {
   "cell_type": "markdown",
   "metadata": {},
   "source": [
    "### Modeling Approach:\n",
    "* Given the nature of the problem and the EDA of the data there are two model families that we should explore:\n",
    "    * Logistic Regression: Given the outcome variable is a 1/0 variable this is an obvious choice\n",
    "    * Decision Trees: Given the nature of the feature space and the number of missing values, the family of Decision Tree based models would be an excellent choice for this problem and would require substantially less, or no, pre-processing of the data.\n",
    "\n",
    "We have implemented the LR model from scratch below.  We did not explore implementing the Decision Tree algorithm from scratch because of the complexities invovled in that. This could be easily  explored using Spark's implementation of Decision Trees. "
   ]
  },
  {
   "cell_type": "markdown",
   "metadata": {},
   "source": [
    "### Performing EDA\n",
    "The code below supports the EDA discussion above.  \n",
    "\n",
    "First choose the datafile on which to perform EDA - note the different files choosen when running **LOCALLY** vs. running on the **CLUSTER**."
   ]
  },
  {
   "cell_type": "code",
   "execution_count": null,
   "metadata": {
    "collapsed": true
   },
   "outputs": [],
   "source": [
    "# Use a very small testing file for running LOCALLY\n",
    "dataFile = 'data/sample_tiny.txt'\n",
    "dataFileSample = 'data/sample_tiny.txt'"
   ]
  },
  {
   "cell_type": "code",
   "execution_count": 18,
   "metadata": {
    "collapsed": true
   },
   "outputs": [],
   "source": [
    "# Use the dataset and a 10% sample for running on the CLUSTER\n",
    "# small % of the dataset for testing\n",
    "# dataFile = 'gs://w261-final-project-data-1/train_part_0.txt'\n",
    "# OR the full training dataset (80% of the full dataset):\n",
    "dataFile = 'gs://w261-final-project-data-1/train_part_*.txt'\n",
    "# Use a 10% sample for conducting t-tests on continous variables\n",
    "dataFileSample = 'gs://w261-final-project-data-1/train_part_1*.txt' "
   ]
  },
  {
   "cell_type": "code",
   "execution_count": 19,
   "metadata": {
    "collapsed": true
   },
   "outputs": [],
   "source": [
    "# load into RDDs for EDA\n",
    "inRDD = sc.textFile(dataFile) \\\n",
    "          .map(lambda x: x.split('\\t'))\n",
    "\n",
    "inSampleRDD = sc.textFile(dataFileSample) \\\n",
    "                .map(lambda x: x.split('\\t'))  "
   ]
  },
  {
   "cell_type": "code",
   "execution_count": 20,
   "metadata": {},
   "outputs": [
    {
     "name": "stdout",
     "output_type": "stream",
     "text": [
      "['Y', 'x01', 'x02', 'x03', 'x04', 'x05', 'x06', 'x07', 'x08', 'x09', 'x10', 'x11', 'x12', 'x13', 'c01', 'c02', 'c03', 'c04', 'c05', 'c06', 'c07', 'c08', 'c09', 'c10', 'c11', 'c12', 'c13', 'c14', 'c15', 'c16', 'c17', 'c18', 'c19', 'c20', 'c21', 'c22', 'c23', 'c24', 'c25', 'c26']\n"
     ]
    }
   ],
   "source": [
    "#Generate  Variable names: x01-x13 for integer features and c01-c26 for categorical features\n",
    "outcomeCOL = ['Y']\n",
    "integerCOLS = []\n",
    "categoryCOLS = []\n",
    "for i in range(1,14):\n",
    "    integerCOLS.append('x'+format(i,'02d'))\n",
    "for i in range(1,27):\n",
    "    categoryCOLS.append('c'+format(i,'02d'))\n",
    "allCOLS = outcomeCOL + integerCOLS + categoryCOLS\n",
    "print(allCOLS)"
   ]
  },
  {
   "cell_type": "code",
   "execution_count": 21,
   "metadata": {},
   "outputs": [
    {
     "name": "stdout",
     "output_type": "stream",
     "text": [
      "Prep -1 took: 479.55309891700745  seconds: Records: 28720074\n"
     ]
    },
    {
     "data": {
      "text/plain": [
       "[('c24|08b0ce98', (171393, 40534)),\n",
       " ('c03|f9aed79a', (4375, 8817)),\n",
       " ('c03|e0039e9a', (8, 0)),\n",
       " ('x05|4913', (798, 212)),\n",
       " ('c13|5029598e', (9605, 1035))]"
      ]
     },
     "execution_count": 21,
     "metadata": {},
     "output_type": "execute_result"
    }
   ],
   "source": [
    "### In this section we will create a data structure that looks like the following:\n",
    "### COLName|Value, Count*(Y=0), Count(Y=1) \n",
    "### The key for this record would be \"COLName|Value\" \n",
    "\n",
    "def makeCompositeKey(line):\n",
    "    \"\"\" Given a line of record, create the composite key outcome|colname|value and yield (key,1)\"\"\"\n",
    "    len_line = len(line)\n",
    "    for i in range(1,40):\n",
    "        composite_key = line[0] + \"|\" + allCOLS[i] + \"|\"+ line[i]\n",
    "        yield (composite_key,1)\n",
    "        \n",
    "def pivot(line):\n",
    "    \"\"\" Pivot outcome values into two columns of counts\"\"\"\n",
    "    outcome, colname, value  = line[0].split('|')\n",
    "    if outcome == '0':\n",
    "        count0 = line[1]\n",
    "        count1 = 0\n",
    "    elif outcome=='1':\n",
    "        count1 = line[1]\n",
    "        count0 =0\n",
    "    else:\n",
    "        print(\"**** FATAL OUTCOME ERROR *****\")\n",
    "    return (colname+\"|\"+value, (count0, count1))\n",
    "    \n",
    "start = time.time()\n",
    "cRDD = inRDD.flatMap(makeCompositeKey) \\\n",
    "            .reduceByKey(lambda x,y: x+y) \\\n",
    "            .map(pivot) \\\n",
    "            .reduceByKey(lambda x,y: (x[0]+y[0], x[1]+y[1]))\n",
    "cRDD.cache()\n",
    "recCount = cRDD.count()\n",
    "print(\"Prep -1 took:\", time.time()-start, \" seconds: Records:\", recCount )\n",
    "cRDD.take(5)"
   ]
  },
  {
   "cell_type": "code",
   "execution_count": 22,
   "metadata": {},
   "outputs": [
    {
     "name": "stdout",
     "output_type": "stream",
     "text": [
      "Time taken for counts: 28.992184162139893\n",
      "Column\t%Miss\tTotalCount\tMissing\n",
      "x01 \t 45.4 \t 36667712 \t 16633219\n",
      "x02 \t 0.0 \t 36667712 \t 0\n",
      "x03 \t 21.5 \t 36667712 \t 7870784\n",
      "x04 \t 21.7 \t 36667712 \t 7948199\n",
      "x05 \t 2.6 \t 36667712 \t 946491\n",
      "x06 \t 22.4 \t 36667712 \t 8201453\n",
      "x07 \t 4.3 \t 36667712 \t 1586588\n",
      "x08 \t 0.0 \t 36667712 \t 18148\n",
      "x09 \t 4.3 \t 36667712 \t 1586588\n",
      "x10 \t 45.4 \t 36667712 \t 16633219\n",
      "x11 \t 4.3 \t 36667712 \t 1586588\n",
      "x12 \t 76.5 \t 36667712 \t 28053238\n",
      "x13 \t 21.7 \t 36667712 \t 7948199\n",
      "c01 \t 0.0 \t 36667712 \t 0\n",
      "c02 \t 0.0 \t 36667712 \t 0\n",
      "c03 \t 3.4 \t 36667712 \t 1248281\n",
      "c04 \t 3.4 \t 36667712 \t 1248281\n",
      "c05 \t 0.0 \t 36667712 \t 0\n",
      "c06 \t 12.1 \t 36667712 \t 4431948\n",
      "c07 \t 0.0 \t 36667712 \t 0\n",
      "c08 \t 0.0 \t 36667712 \t 0\n",
      "c09 \t 0.0 \t 36667712 \t 0\n",
      "c10 \t 0.0 \t 36667712 \t 0\n",
      "c11 \t 0.0 \t 36667712 \t 0\n",
      "c12 \t 3.4 \t 36667712 \t 1248281\n",
      "c13 \t 0.0 \t 36667712 \t 0\n",
      "c14 \t 0.0 \t 36667712 \t 0\n",
      "c15 \t 0.0 \t 36667712 \t 0\n",
      "c16 \t 3.4 \t 36667712 \t 1248281\n",
      "c17 \t 0.0 \t 36667712 \t 0\n",
      "c18 \t 0.0 \t 36667712 \t 0\n",
      "c19 \t 44.0 \t 36667712 \t 16137396\n",
      "c20 \t 44.0 \t 36667712 \t 16137396\n",
      "c21 \t 3.4 \t 36667712 \t 1248281\n",
      "c22 \t 76.3 \t 36667712 \t 27960857\n",
      "c23 \t 0.0 \t 36667712 \t 0\n",
      "c24 \t 3.4 \t 36667712 \t 1248281\n",
      "c25 \t 44.0 \t 36667712 \t 16137396\n",
      "c26 \t 44.0 \t 36667712 \t 16137396\n"
     ]
    }
   ],
   "source": [
    "#Count number of missing records for each variable - compute proportion\n",
    "startTime = time.time()\n",
    "missingCount = cRDD.filter(lambda x: x[0].split('|')[1] == '' ) \\\n",
    "                 .map(lambda x: (x[0].split('|')[0], x[1][0]+x[1][1]) ).collect()\n",
    "totalCount = cRDD.map(lambda x: (x[0].split('|')[0], x[1][0]+x[1][1]) ) \\\n",
    "                    .reduceByKey(lambda x, y: x+y).collect()\n",
    "print(\"Time taken for counts:\" , time.time() - startTime)\n",
    "print(\"Column\\t%Miss\\tTotalCount\\tMissing\")\n",
    "for c in allCOLS[1:]:\n",
    "    tC = list(filter(lambda x: x[0] == c, totalCount))[0][1]\n",
    "    mC = list(filter(lambda x: x[0] == c, missingCount))\n",
    "    if mC == []:\n",
    "        mC = 0\n",
    "    else:\n",
    "        mC = mC[0][1]\n",
    "    print(c,'\\t', np.round(100*mC/tC,1),'\\t', tC,'\\t', mC)"
   ]
  },
  {
   "cell_type": "code",
   "execution_count": 23,
   "metadata": {},
   "outputs": [
    {
     "name": "stdout",
     "output_type": "stream",
     "text": [
      "col\t uniq\tsmalls\trest\t%smalls\n",
      "c09 \t 3 \t 0 \t 3 \t 0.0\n",
      "c20 \t 4 \t 0 \t 4 \t 0.0\n",
      "c17 \t 10 \t 0 \t 10 \t 0.0\n",
      "c23 \t 15 \t 1 \t 14 \t 0.0\n",
      "c22 \t 18 \t 7 \t 11 \t 0.0\n",
      "c06 \t 24 \t 11 \t 13 \t 0.0\n",
      "c14 \t 27 \t 1 \t 26 \t 0.0\n",
      "c25 \t 105 \t 48 \t 57 \t 0.0\n",
      "c05 \t 305 \t 127 \t 178 \t 0.0\n",
      "c02 \t 580 \t 43 \t 537 \t 0.0\n",
      "c08 \t 633 \t 302 \t 331 \t 0.0\n",
      "c01 \t 1460 \t 787 \t 673 \t 0.0\n",
      "c19 \t 2166 \t 605 \t 1561 \t 0.0\n",
      "c13 \t 3193 \t 107 \t 3086 \t 0.0\n",
      "c18 \t 5576 \t 2452 \t 3124 \t 0.0\n",
      "c11 \t 5643 \t 1224 \t 4419 \t 0.0\n",
      "c07 \t 12486 \t 2738 \t 9748 \t 0.0\n",
      "c15 \t 14747 \t 8209 \t 6538 \t 1.0\n",
      "c10 \t 89009 \t 74318 \t 14691 \t 3.0\n",
      "c26 \t 133162 \t 122548 \t 10614 \t 3.0\n",
      "c24 \t 258742 \t 245658 \t 13084 \t 5.0\n",
      "c04 \t 1884501 \t 1864501 \t 20000 \t 15.0\n",
      "c16 \t 4590595 \t 4572015 \t 18580 \t 26.0\n",
      "c21 \t 5894068 \t 5875991 \t 18077 \t 31.0\n",
      "c12 \t 6951631 \t 6934053 \t 17578 \t 34.0\n",
      "c03 \t 8379846 \t 8362653 \t 17193 \t 38.0\n",
      "x10 \t 13 \t 4 \t 9 \t 0.0\n",
      "x11 \t 168 \t 65 \t 103 \t 0.0\n",
      "x12 \t 378 \t 282 \t 96 \t 0.0\n",
      "x04 \t 453 \t 347 \t 106 \t 0.0\n",
      "x01 \t 623 \t 453 \t 170 \t 0.0\n",
      "x13 \t 1203 \t 1005 \t 198 \t 0.0\n",
      "x08 \t 1242 \t 1128 \t 114 \t 0.0\n",
      "x07 \t 3918 \t 3146 \t 772 \t 0.0\n",
      "x09 \t 6976 \t 5067 \t 1909 \t 0.0\n",
      "x02 \t 8971 \t 5366 \t 3605 \t 0.0\n",
      "x06 \t 10919 \t 8760 \t 2159 \t 0.0\n",
      "x03 \t 13056 \t 12360 \t 696 \t 0.0\n",
      "x05 \t 443605 \t 415111 \t 28494 \t 7.0\n"
     ]
    }
   ],
   "source": [
    "### For each column, get total number of unique values and number of unique values with small counts\n",
    "### We will use this to figure out which categories should be retained as is and which ones should be\n",
    "### transformed into fewer categories so that we can reduce the dimensions.\n",
    "\n",
    "def uniqueCountStats(line):\n",
    "    col, val = line[0].split('|')\n",
    "    recordCount = line[1][0]+line[1][1]\n",
    "    if line[1][0] + line[1][1] < 100:\n",
    "        smallval = 1\n",
    "        smallvalRecCount = line[1][0]+line[1][1]\n",
    "    else:\n",
    "        smallval = 0\n",
    "        smallvalRecCount = 0\n",
    "    return (col, (1, recordCount, smallval, smallvalRecCount))\n",
    "    \n",
    "uniqueCountsList= cRDD.map(uniqueCountStats) \\\n",
    "                           .reduceByKey(lambda x,y: (x[0]+y[0],x[1]+y[1], x[2]+y[2], x[3]+y[3])) \\\n",
    "                           .map(lambda x: (x[0], x[1][0],x[1][1],x[1][2], x[1][3])).collect()\n",
    "uniqueCountsList.sort(key=lambda x: (x[0][0], x[1]))\n",
    "\n",
    "print('col\\t uniq\\tsmalls\\trest\\t%smalls')\n",
    "for c in uniqueCountsList:\n",
    "    print(c[0], '\\t', c[1], '\\t', c[3], '\\t', c[1]-c[3], '\\t', np.round(c[4]/c[2]*100,0))\n"
   ]
  },
  {
   "cell_type": "markdown",
   "metadata": {},
   "source": [
    "Here - or some reference to where we discuss it elsewhere - is where we should be explicit about how we have decided on the cut point between CompactCategoricalVariables and LongCategoricalVariables."
   ]
  },
  {
   "cell_type": "code",
   "execution_count": 34,
   "metadata": {},
   "outputs": [
    {
     "name": "stdout",
     "output_type": "stream",
     "text": [
      "{'CCVs': ['c05', 'c06', 'c09', 'c14', 'c17', 'c20', 'c22', 'c23', 'c25', 'x10'], 'LCVs': ['c01', 'c02', 'c03', 'c04', 'c07', 'c08', 'c10', 'c11', 'c12', 'c13', 'c15', 'c16', 'c18', 'c19', 'c21', 'c24', 'c26', 'x01', 'x04', 'x11', 'x12'], 'CVs': ['x02', 'x03', 'x05', 'x06', 'x07', 'x08', 'x09', 'x13']}\n"
     ]
    }
   ],
   "source": [
    "# Split the columns into 3 groups: \n",
    "# LongCategoricalVariables have many unique values\n",
    "# CompactCategoricalVariables have few unique values\n",
    "# ContinuousVariables are integer variables that are NOT being treated as categorical variables\n",
    "CompactCategoricalVariables = ['c09','c20','c17','c06','c23','c22','c14','c25','c05', 'x10']\n",
    "\n",
    "LongCategoricalVariables = list((set(categoryCOLS) - \n",
    "                                 set(CompactCategoricalVariables)).union(set(['x11','x12','x01','x04'])))\n",
    "\n",
    "ContinuousVariables = list(set(integerCOLS) - \n",
    "                           set(CompactCategoricalVariables) - \n",
    "                           set(LongCategoricalVariables))\n",
    "CompactCategoricalVariables.sort()\n",
    "LongCategoricalVariables.sort()\n",
    "ContinuousVariables.sort()\n",
    "\n",
    "catDict = dict({'CCVs': CompactCategoricalVariables, \n",
    "                'LCVs': LongCategoricalVariables, \n",
    "                'CVs': ContinuousVariables})\n",
    "\n",
    "#allCOLSdict:  dictionary of the type ColName: Index -> this is so that it can easily\n",
    "#              identify which item in each row corresponds to which column name\n",
    "\n",
    "allCOLSdict = {allCOLS[i]:i for i in range(len(allCOLS))}\n",
    "allCOLSdict_BC = sc.broadcast(allCOLSdict)\n",
    "variables_BC = sc.broadcast(catDict)\n",
    "print(catDict)"
   ]
  },
  {
   "cell_type": "code",
   "execution_count": 35,
   "metadata": {},
   "outputs": [
    {
     "name": "stdout",
     "output_type": "stream",
     "text": [
      "x02 Ttest_indResult(statistic=-89.2514657665165, pvalue=0.0)\n",
      "x03 Ttest_indResult(statistic=-18.01865772767355, pvalue=1.4260589327144753e-72)\n",
      "x05 Ttest_indResult(statistic=233.73987327288214, pvalue=0.0)\n",
      "x06 Ttest_indResult(statistic=231.02388324462373, pvalue=0.0)\n",
      "x07 Ttest_indResult(statistic=-157.25138535057758, pvalue=0.0)\n",
      "x08 Ttest_indResult(statistic=72.15821405298118, pvalue=0.0)\n",
      "x09 Ttest_indResult(statistic=-40.004450058327045, pvalue=0.0)\n",
      "x13 Ttest_indResult(statistic=220.67556765327097, pvalue=0.0)\n",
      "Time taken: 74.19954562187195\n"
     ]
    }
   ],
   "source": [
    "### For continuous variables - use a 10% sample to conduct a t-test of means for the values when \n",
    "### Y=0 vs. Y=1 to see if they are significantly different\n",
    "\n",
    "def getContVbles(line):\n",
    "    contOnly=['Y|'+line[0]]\n",
    "    for c in variables_BC.value['CVs']:\n",
    "        #only if it is not empty\n",
    "        val = line[allCOLSdict_BC.value[c]]\n",
    "        if val == '':\n",
    "            val = 'None'\n",
    "        contOnly.append(c+\"|\"+val)\n",
    "    return (contOnly)\n",
    "\n",
    "contRDD = inSampleRDD.map(getContVbles) \n",
    "\n",
    "def dfrow(x):\n",
    "    d = {}\n",
    "    for i in range(len(x)):\n",
    "        col,val = x[i].split('|') \n",
    "        d[col] = val \n",
    "    return d\n",
    "stime = time.time()\n",
    "contDF = contRDD.map(lambda x: Row(**dfrow(x))).toDF()\n",
    "for name in contDF.columns:\n",
    "    contDF = contDF.withColumn(name, contDF[name].cast(IntegerType()))\n",
    "contPDF = contDF.toPandas()\n",
    "contPDF.groupby(contPDF.Y).describe().T\n",
    "#for col in contPDF.columns:\n",
    "#    print(ttest_ind(contPDF[contPDF.Y==0].dropna()[col], contPDF[contPDF.Y==1].dropna()[col]))\n",
    "for col in contPDF.columns[1:]:\n",
    "    print(col, ttest_ind(contPDF[contPDF.Y==0][col].dropna(), contPDF[contPDF.Y==1][col].dropna()\n",
    "                         , equal_var = False))\n",
    "    \n",
    "print(\"Time taken:\", time.time()-stime)\n"
   ]
  },
  {
   "cell_type": "code",
   "execution_count": 36,
   "metadata": {},
   "outputs": [
    {
     "name": "stdout",
     "output_type": "stream",
     "text": [
      "Time taken for handling small values: 26.42232894897461  Rec Count: 198617\n",
      "Time taken to create mapping for compact categorical values 0.7902576923370361\n",
      "Time taken to create mapping for long categorical values 7.1930928230285645\n",
      "[('c01', '4265881a', 'HIGH0', (3866, 1287)), ('c01', '3e03a11b', 'HIGH0', (83, 33)), ('c01', 'd0b57e4b', 'HIGH0', (119, 46)), ('c01', '37d3940e', 'HIGH0', (660, 234)), ('c01', '2aa19032', 'HIGH0', (225, 72)), ('c01', 'd4b08d58', 'HIGH0', (39750, 13999)), ('c01', '865fa24a', 'HIGH0', (92, 20)), ('c01', '85dc8d44', 'HIGH0', (431, 140)), ('c01', '940683b1', 'HIGH0', (1926, 717)), ('c01', 'c3f0dcc3', 'HIGH0', (126, 44))]\n",
      "[('c05', '739c1601', '739c1601', (498, 163)), ('c05', '1524de30', '1524de30', (1722, 560)), ('c05', 'a1fe7e38', 'a1fe7e38', (154, 68)), ('c05', '3927380d', '3927380d', (415, 129)), ('c05', 'f4d1c8a9', 'f4d1c8a9', (1000, 373)), ('c05', '02acfb33', '02acfb33', (129, 34)), ('c05', '2b1509da', '2b1509da', (490, 169)), ('c05', '7b65c4f5', '7b65c4f5', (108, 51)), ('c05', 'a444653d', 'a444653d', (1779, 625)), ('c05', 'f8fd2e58', 'f8fd2e58', (125, 45))]\n",
      "Time taken to create mapping for long categorical values 9.11518383026123\n"
     ]
    }
   ],
   "source": [
    "### Collect all the small values into a separate bucket for all categorical variables\n",
    "def groupSmalls(line):\n",
    "    col, val = line[0].split('|')\n",
    "    y0, y1 = line[1]\n",
    "    if y0 + y1 < 100:\n",
    "        val = 'smalls'\n",
    "    return (col+'|'+val, line[1])\n",
    "\n",
    "startTime = time.time()\n",
    "gsRDD = cRDD.map(groupSmalls) \\\n",
    "            .reduceByKey(lambda x,y: (x[0]+y[0], x[1]+y[1]) )\n",
    "cnt = gsRDD.count()\n",
    "print(\"Time taken for handling small values:\", time.time() -startTime, \" Rec Count:\", cnt)\n",
    "\n",
    "\n",
    "#Now generate a list of values for each CCV that has been explicitly retained - we will use\n",
    "#this to preprocess the test/validation set\n",
    "startTime = time.time()\n",
    "variables_BC = sc.broadcast(catDict)\n",
    "CCV_RDD_stats = gsRDD.filter(lambda x: x[0].split('|')[0] in variables_BC.value['CCVs']) \\\n",
    "                   .map(lambda x: (x[0].split('|')[0], x[0].split('|')[1], x[1] ))\n",
    "\n",
    "retainedCCV_values = CCV_RDD_stats.map(lambda x: (x[0], x[1], x[1], x[2])).collect()\n",
    "retainedCCV_values.sort(key=lambda x:x[0])\n",
    "print(\"Time taken to create mapping for compact categorical values\", time.time() - startTime)\n",
    "\n",
    "## Now do the same thing  for the LCVs - here we crate a mapping of unique values on to\n",
    "## one of 3 buckets. This reduces the dimensionality of each column to 3.\n",
    "\n",
    "def bucketize(line):\n",
    "    col,val = line[0].split('|')\n",
    "    y0,y1 = line[1]\n",
    "    y0pct = y0/(y0+y1) \n",
    "    if y0pct < .3:\n",
    "        bkt = \"LOW0\"\n",
    "    elif y0pct < 0.7:\n",
    "        bkt = \"MED0\"\n",
    "    else:\n",
    "        bkt = \"HIGH0\"\n",
    "    #output the bucket map\n",
    "    aKey = col + \"|\" + val + \"|\"+ bkt\n",
    "    return (aKey, (y0, y1))        \n",
    "\n",
    "def splitKey(line):\n",
    "    col,val,bkt = line[0].split('|')\n",
    "    return(col,val,bkt, line[1])\n",
    "\n",
    "startTime = time.time()\n",
    "LCV_RDD = gsRDD.filter(lambda x: x[0].split('|')[0] in variables_BC.value['LCVs']) \\\n",
    "              .map(bucketize)\n",
    "\n",
    "#compute count of records for each LCV column and what its now mapped to\n",
    "LCV_RDD_stats = LCV_RDD.map(lambda x: (x[0].split('|')[0] + \"|\" + x[0].split('|')[2], x[1])) \\\n",
    "                     .reduceByKey(lambda x,y: (x[0]+y[0], x[1]+y[1])) \\\n",
    "                     .map(lambda x: (x[0].split('|')[0], x[0].split('|')[1], x[1]))\n",
    "\n",
    "retainedLCV_values = LCV_RDD.map(splitKey).collect()\n",
    "retainedLCV_values.sort(key=lambda x: (x[0],x[2]))\n",
    "\n",
    "#Put the stats together\n",
    "statsList = LCV_RDD_stats.collect() + CCV_RDD_stats.collect()\n",
    "\n",
    "print(\"Time taken to create mapping for long categorical values\", time.time() - startTime)\n",
    "print(retainedLCV_values[0:10])\n",
    "print(retainedCCV_values[0:10])\n",
    "#Put the stats together\n",
    "statsList = LCV_RDD_stats.collect() + CCV_RDD_stats.collect()\n",
    "\n",
    "print(\"Time taken to create mapping for long categorical values\", time.time() - startTime)"
   ]
  },
  {
   "cell_type": "code",
   "execution_count": 37,
   "metadata": {},
   "outputs": [
    {
     "name": "stdout",
     "output_type": "stream",
     "text": [
      "C c05 0.0 \n",
      "C c06 0.04 \n",
      "C c09 0.1 \n",
      "C c14 0.13 \n",
      "C c17 0.16 *\n",
      "C c20 0.05 \n",
      "C c22 0.04 \n",
      "C c23 0.13 \n",
      "C c25 0.07 \n",
      "C x10 0.2 *\n",
      "L c01 0.0 \n",
      "L c02 0.14 \n",
      "L c03 0.18 *\n",
      "L c04 0.22 *\n",
      "L c07 0.21 *\n",
      "L c08 0.0 \n",
      "L c10 0.16 *\n",
      "L c11 0.19 *\n",
      "L c12 0.18 *\n",
      "L c13 0.19 *\n",
      "L c15 0.22 *\n",
      "L c16 0.19 *\n",
      "L c18 0.2 *\n",
      "L c19 0.06 \n",
      "L c21 0.19 *\n",
      "L c24 0.2 *\n",
      "L c26 0.15 \n",
      "L x01 0.19 *\n",
      "L x04 0.04 \n",
      "L x11 0.18 *\n",
      "L x12 0.07 \n"
     ]
    }
   ],
   "source": [
    "candidateList = []\n",
    "for col in CompactCategoricalVariables + LongCategoricalVariables :\n",
    "    #print(\"for col\", col)\n",
    "    dataForCol = list(filter(lambda x: x[0] == col, statsList))\n",
    "    statsArray = np.array([item[2] for item in dataForCol])\n",
    "    chi2, p, dof, expected = chi2_contingency(statsArray)\n",
    "    cramersv = np.sqrt(chi2/(np.sum(statsArray)*(np.min(statsArray.shape)-1)))\n",
    "    if cramersv > 0.5 :\n",
    "        text = \"***\"\n",
    "    elif cramersv > 0.25:\n",
    "        text = \"**\"\n",
    "    elif cramersv > 0.15:\n",
    "        text = \"*\"\n",
    "    else:\n",
    "        text = \"\"\n",
    "    if col in set(LongCategoricalVariables):\n",
    "        colType = \"L\"\n",
    "    elif col in set(CompactCategoricalVariables):\n",
    "        colType = \"C\"\n",
    "    else:\n",
    "        colType = \"I\"\n",
    "    print(colType, col, np.round(cramersv,2), text)\n",
    "    if cramersv > 0.15:\n",
    "        candidateList.append(col)\n",
    "candidateList.sort()\n",
    "\n",
    "### get all the mappings for the candidateList columns\n",
    "MappingList = list(filter(lambda x: x[0] in candidateList, retainedCCV_values)) + \\\n",
    "        list(filter(lambda x: x[0] in candidateList, retainedLCV_values))    "
   ]
  },
  {
   "cell_type": "code",
   "execution_count": 38,
   "metadata": {},
   "outputs": [
    {
     "name": "stdout",
     "output_type": "stream",
     "text": [
      "Total number of categorical one-hot coded features: 60\n"
     ]
    }
   ],
   "source": [
    "### How many features does this result in for the model?\n",
    "adict = {}\n",
    "for c in MappingList:\n",
    "    adict[c[0]] = adict.get(c[0],set([])).union(set([c[2]])) \n",
    "tot_features = np.sum([len(adict[c]) for c in adict.keys()])\n",
    "print(\"Total number of categorical one-hot coded features:\", tot_features)"
   ]
  },
  {
   "cell_type": "code",
   "execution_count": 39,
   "metadata": {},
   "outputs": [
    {
     "name": "stdout",
     "output_type": "stream",
     "text": [
      "Copying file://./CategoryMappingFile.pkl [Content-Type=application/octet-stream]...\n",
      "/ [1 files][  8.8 MiB/  8.8 MiB]                                                \n",
      "Operation completed over 1 objects/8.8 MiB.                                      \n"
     ]
    }
   ],
   "source": [
    "outFile = './CategoryMappingFile.pkl'\n",
    "with open(outFile, 'wb') as fp:\n",
    "    pickle.dump(MappingList, fp)\n",
    "!gsutil cp ./CategoryMappingFile.pkl gs://final-project-w261-ads-data/notebooks/final-mapping/CategoryMappingFile.pkl"
   ]
  },
  {
   "cell_type": "markdown",
   "metadata": {},
   "source": [
    "The following code, which creates a configuration dictionary to define which columns to use in the modelling phase, is not used in this implementation.  We chose instead to hand-code which variables to use in the modeling phase to clearly explain our choices. However, in a production environment, we would likely want to automate the hand-off from EDA to modeling phase, and we include this code to document how we might do that."
   ]
  },
  {
   "cell_type": "code",
   "execution_count": null,
   "metadata": {
    "collapsed": true
   },
   "outputs": [],
   "source": [
    "## Create a column config file that has the following info\n",
    "## column name, type (OUTCOME, LCV, CCV or CV), index in the input file, KEEP/DROP indicator for whether to keep feature or not\n",
    "\n",
    "configDict={}\n",
    "configDict['Y'] = ['OUTCOME', allCOLSdict['Y'], \"KEEP\"]\n",
    "for c in CompactCategoricalVariables:\n",
    "    if c in candidateList:\n",
    "        keepdrop = \"KEEP\"\n",
    "    else:\n",
    "        keepdrop = \"DROP\"\n",
    "    configDict[c] = ['CCV', allCOLSdict[c], keepdrop]\n",
    "for c in LongCategoricalVariables:\n",
    "    if c in candidateList:\n",
    "        keepdrop = \"KEEP\"\n",
    "    else:\n",
    "        keepdrop = \"DROP\"\n",
    "    configDict[c] = ['LCV', allCOLSdict[c], keepdrop]\n",
    "for c in ContinuousVariables:\n",
    "    configDict[c] = ['CV', allCOLSdict[c], \"KEEP\"]\n",
    "    "
   ]
  },
  {
   "cell_type": "code",
   "execution_count": null,
   "metadata": {
    "collapsed": true
   },
   "outputs": [],
   "source": [
    "##OUPUT the columnconfigfile on to disk to be read by the data-preprocess step\n",
    "outFile_config = './ColumnConfigFile.pkl'\n",
    "\n",
    "with open(outFile_config, 'wb') as fp:\n",
    "    pickle.dump(configDict, fp)\n",
    "!gsutil cp ./ColumnConfigFile.pkl gs://w261-final-project-data-1/ColumnConfigFile.pkl\n",
    "    "
   ]
  },
  {
   "cell_type": "markdown",
   "metadata": {},
   "source": [
    "## Section 4: Algorithm Implementation\n",
    "\n",
    "We start this section by transforming the data in line with discussion in the EDA section above.  Variables found to have a low correlation with the outcome variable are removed, continuous variables are normalized, and categorical variables are one-hot encoded.  The data is formatted as discussed in the toy example to feed into the algorithm implementation.  \n",
    "\n",
    "Note that the MappingList variable must either be active in the environment (from running the code in the EDA section above on the full training dataset) OR it can be loaded from a pickle file provided with this notebook. This MappingList maps some of the categorical variables with very large numbers of unique values into the High/Med/Low values as discussed above in the EDA section.\n",
    "\n",
    "Finally, the algorithm from the toy example in Section 2 is applied here, using a scaled version of gradient descent that operates on one file of the training data at a time instead of the full dataset.\n"
   ]
  },
  {
   "cell_type": "markdown",
   "metadata": {},
   "source": [
    "### 4.1 Data Transformation - Variable Definitions and Prep"
   ]
  },
  {
   "cell_type": "markdown",
   "metadata": {},
   "source": [
    "After EDA is performed on the training set above, the mean and standard deviation will be calculated below on the training set for the continuous variables being used in data analysis. Data transformation will be applied to all parts of the dataset - the test data, the training data, and the held back development data.\n",
    "\n",
    "See the **\"Feature Selection Criteria\"** discussion at the top of Section 3 above for more information about selecting categorical and continuous variables to include in this data transformation.\n",
    "\n",
    "First choose a file on which to perform data transformation.  Note the different files choosen when running **LOCALLY** vs. running on the **CLUSTER**.  "
   ]
  },
  {
   "cell_type": "code",
   "execution_count": null,
   "metadata": {
    "collapsed": true
   },
   "outputs": [],
   "source": [
    "# Use a sample file for running LOCALLY\n",
    "dataFile = 'data/sample_tiny.txt'"
   ]
  },
  {
   "cell_type": "code",
   "execution_count": 41,
   "metadata": {
    "collapsed": true
   },
   "outputs": [],
   "source": [
    "# Define data to transform on the CLUSTER\n",
    "# dataFile = 'gs://w261-final-project-data-1/train_part_0.txt'  # this needs to be updated\n",
    "train_data_file = \"gs://w261-final-project-data-1/train_part_*.txt\"\n",
    "dev_data_file = \"gs://w261-final-project-data-1/valid_part_*.txt\"\n"
   ]
  },
  {
   "cell_type": "code",
   "execution_count": 42,
   "metadata": {},
   "outputs": [
    {
     "name": "stdout",
     "output_type": "stream",
     "text": [
      "Categorical variables to be included in analysis:\n",
      " ['c03', 'c04', 'c07', 'c10', 'c11', 'c12', 'c13', 'c15', 'c16', 'c17', 'c18', 'c21', 'c24', 'x01', 'x10', 'x11']\n",
      "Continuous variables to be included in analysis:\n",
      " ['x02', 'x03', 'x05', 'x06', 'x07', 'x08', 'x09', 'x13']\n"
     ]
    }
   ],
   "source": [
    "# Candidate list for categorical variables has already been created in EDA section above\n",
    "\n",
    "# Candidate list for continuous variables will be defined by\n",
    "# by visual inspection of t-tests on continuous variables in the EDA section above\n",
    "\n",
    "candidateCategoricalVariables = candidateList\n",
    "candidateContinuousVariables = ['x02', 'x03', 'x05', 'x06', 'x07', 'x08', 'x09', 'x13']\n",
    "candidateCategoricalVariables.sort()\n",
    "candidateContinuousVariables.sort()                  \n",
    "# create broadcast variables\n",
    "candidateCategoricalVariables_BC = sc.broadcast(candidateCategoricalVariables)\n",
    "candidateContinuousVariables_BC = sc.broadcast(candidateContinuousVariables)\n",
    "print(\"Categorical variables to be included in analysis:\\n\", candidateCategoricalVariables_BC.value)\n",
    "print(\"Continuous variables to be included in analysis:\\n\", candidateContinuousVariables_BC.value) "
   ]
  },
  {
   "cell_type": "code",
   "execution_count": 43,
   "metadata": {},
   "outputs": [
    {
     "name": "stdout",
     "output_type": "stream",
     "text": [
      "Column indices from original dataset to retain for analysis:\n",
      " [0, 1, 2, 3, 5, 6, 7, 8, 9, 10, 11, 13, 16, 17, 20, 23, 24, 25, 26, 28, 29, 30, 31, 34, 37]\n",
      "Column names fron original dataset to retain for analysis:\n",
      " ['Y', 'x01', 'x02', 'x03', 'x05', 'x06', 'x07', 'x08', 'x09', 'x10', 'x11', 'x13', 'c03', 'c04', 'c07', 'c10', 'c11', 'c12', 'c13', 'c15', 'c16', 'c17', 'c18', 'c21', 'c24']\n",
      "Column indices in the new dataset of continuous variables:\n",
      " [2, 3, 4, 5, 6, 7, 8, 11]\n",
      "Column indices in the new dataset of categorical variables:\n",
      " [1, 9, 10, 12, 13, 14, 15, 16, 17, 18, 19, 20, 21, 22, 23, 24]\n"
     ]
    }
   ],
   "source": [
    "# Set up broadcast variable for removing columns from dataset\n",
    "colDict = {'Y':0, 'x01':1, 'x02':2, 'x03':3, 'x04':4, 'x05':5, 'x06':6, 'x07':7, 'x08':8, 'x09':9, \n",
    "            'x10':10, 'x11':11, 'x12':12, 'x13':13, 'c01':14, 'c02':15, 'c03':16, 'c04':17, 'c05':18, 'c06':19, \n",
    "            'c07':20, 'c08':21, 'c09':22, 'c10':23, 'c11':24, 'c12':25, 'c13':26, 'c14':27, 'c15':28, 'c16':29, \n",
    "            'c17':30, 'c18':31, 'c19':32, 'c20':33, 'c21':34, 'c22':35, 'c23':36, 'c24':37, 'c25':38, 'c26':39}\n",
    "\n",
    "def createColumnIndex(colDict, candidateContinuousVariables, candidateCategoricalVariables):\n",
    "    \"\"\"Create index of columns to include in analysis\"\"\"\n",
    "    # initialize with 1 for the outcome variable\n",
    "    cols_idx = [0]\n",
    "    for col in candidateContinuousVariables:\n",
    "        cols_idx.append(colDict.get(col))\n",
    "    for col in candidateCategoricalVariables:\n",
    "        cols_idx.append(colDict.get(col))\n",
    "    cols_idx.sort()\n",
    "    return cols_idx  \n",
    "\n",
    "columnIndex = createColumnIndex(colDict, \n",
    "                                 candidateContinuousVariables, \n",
    "                                 candidateCategoricalVariables)\n",
    "columnIndex_BC = sc.broadcast(columnIndex)\n",
    "\n",
    "# set up broadcast variable to match column names with new dataset\n",
    "colDict_r = {0:'Y', 1:'x01', 2:'x02', 3:'x03', 4:'x04', 5:'x05', 6:'x06', 7:'x07', 8:'x08', 9:'x09',\n",
    "              10:'x10', 11:'x11', 12:'x12', 13:'x13', 14:'c01', 15:'c02', 16:'c03', 17:'c04', 18:'c05', 19:'c06', \n",
    "              20:'c07', 21:'c08', 22:'c09', 23:'c10', 24:'c11', 25:'c12', 26:'c13', 27:'c14', 28:'c15', 29:'c16', \n",
    "              30:'c17', 31:'c18', 32:'c19', 33:'c20', 34:'c21', 35:'c22', 36:'c23', 37:'c24', 38:'c25', 39:'c26'}\n",
    "\n",
    "\n",
    "def createColumnNames(colDict_r, columnIndex):\n",
    "    \"\"\"Create new list of columns to include in analysis\"\"\"\n",
    "    cols_idx = []\n",
    "    for idx in columnIndex:\n",
    "        cols_idx.append(colDict_r.get(idx))\n",
    "    return cols_idx  \n",
    "\n",
    "columnNames = createColumnNames(colDict_r, \n",
    "                                 columnIndex)\n",
    "columnNames_BC = sc.broadcast(columnNames)\n",
    "\n",
    "# Set up broadcast variable to list indices in new dataset of continuous variables\n",
    "def createContinuousIndex(ContinuousVariables, columnNames):\n",
    "    continuousIndex = []\n",
    "    for col in columnNames:\n",
    "        if col in ContinuousVariables:\n",
    "            continuousIndex.append(columnNames.index(col))\n",
    "    return continuousIndex\n",
    "\n",
    "continuousIndex = createContinuousIndex(ContinuousVariables, columnNames)\n",
    "continuousIndex_BC = sc.broadcast(continuousIndex)\n",
    "\n",
    "# Set up broadcast variable to list indices in new dataset of categorical variables\n",
    "def createCategoricalIndex(columnNames):\n",
    "    categoricalIndex = []\n",
    "    for idx in range(len(columnNames_BC.value)):\n",
    "        if idx not in continuousIndex and idx != 0:\n",
    "            categoricalIndex.append(idx)\n",
    "    return categoricalIndex\n",
    "\n",
    "categoricalIndex = createCategoricalIndex(columnNames)\n",
    "categoricalIndex_BC = sc.broadcast(categoricalIndex)\n",
    "\n",
    "print(\"Column indices from original dataset to retain for analysis:\\n\", columnIndex_BC.value)\n",
    "print(\"Column names fron original dataset to retain for analysis:\\n\", columnNames_BC.value)\n",
    "print(\"Column indices in the new dataset of continuous variables:\\n\", continuousIndex_BC.value)\n",
    "print(\"Column indices in the new dataset of categorical variables:\\n\", categoricalIndex_BC.value)"
   ]
  },
  {
   "cell_type": "markdown",
   "metadata": {},
   "source": [
    "##### Load MappingList from pickle file UNLESS the MappingList variable active in this notebook has been run on the full training dataset\n",
    "\n",
    "The MappingList in the pickle file has been processed on the full training dataset."
   ]
  },
  {
   "cell_type": "code",
   "execution_count": null,
   "metadata": {
    "collapsed": true
   },
   "outputs": [],
   "source": [
    "# Load the pickle file this way for running LOCALLY \n",
    "infile = 'CategoryMappingFile/CategoryMappingFile.pkl'\n",
    "with open (infile, 'rb') as fp:\n",
    "    MappingList = pickle.load(fp)"
   ]
  },
  {
   "cell_type": "code",
   "execution_count": null,
   "metadata": {
    "collapsed": true
   },
   "outputs": [],
   "source": [
    "# Load the pickle file this way for running on the CLUSTER \n",
    "dl_blob = project_bucket.get_blob(\"notebooks/final-mapping/CategoryMappingFile.pkl\").download_as_string()\n",
    "MappingList = pickle.loads(dl_blob)"
   ]
  },
  {
   "cell_type": "code",
   "execution_count": 44,
   "metadata": {
    "collapsed": true
   },
   "outputs": [],
   "source": [
    "# Set up dictionary in a lookup format from the MappingList\n",
    "# Create as a broadcast variable\n",
    "MappingDict = {x[0]+\"|\"+x[1]: x[2] for x in MappingList}\n",
    "mapDict_BC = sc.broadcast(MappingDict)"
   ]
  },
  {
   "cell_type": "code",
   "execution_count": 45,
   "metadata": {},
   "outputs": [
    {
     "name": "stdout",
     "output_type": "stream",
     "text": [
      "776ce399\n",
      "HIGH0\n"
     ]
    }
   ],
   "source": [
    "# This is how the MappingDict works\n",
    "print(MappingDict['c17|776ce399'])\n",
    "print(MappingDict['c03|9e8f4edf'])"
   ]
  },
  {
   "cell_type": "markdown",
   "metadata": {},
   "source": [
    "### 4.2 Data Transformation - Define functions and run"
   ]
  },
  {
   "cell_type": "code",
   "execution_count": 46,
   "metadata": {
    "collapsed": true
   },
   "outputs": [],
   "source": [
    "def cleanDataInitial(dataFile):\n",
    "    \"\"\"Remove unusued columns, map categorical variable values, retype continuous\n",
    "       variables as integers.\n",
    "       Input: dataset\n",
    "       Output:  RDD\n",
    "    \"\"\"\n",
    "\n",
    "    print(\"Unused columns removed, categorical variables values mapped to new values, and \\\n",
    "           \\ncontinuous variables retyped as integers.\")\n",
    "    \n",
    "    def removeCols(line):\n",
    "        \"\"\"Load data into RDD, remove columns that will not be used in data analysis.\n",
    "           Input: row from text file\n",
    "           Output: new line for RDD, as a list of values for each variable\n",
    "        \"\"\"\n",
    "        row = line.split('\\t')        \n",
    "        new_line = []\n",
    "        for idx in columnIndex_BC.value:\n",
    "            new_line.append(row[int(idx)])\n",
    "        return new_line    \n",
    "\n",
    "    def lookup(line):\n",
    "        \"\"\"Map each value in each categorical variable to the appropriate\n",
    "           value per column in the MappingDict\n",
    "        \"\"\"\n",
    "        mappedLine= []\n",
    "        for i in range(len(line)):\n",
    "            # confirm column index is a categorical variable\n",
    "            if i in categoricalIndex_BC.value:\n",
    "                # first create composite key for lookup\n",
    "                currentVal = columnNames_BC.value[i] + \"|\" + line[i]\n",
    "                # then lookup new value using this composite key in MappingDict\n",
    "                # leave value empty if there is no mapped value in the MappingDict\n",
    "                mappedVal = mapDict_BC.value.get(currentVal, '')\n",
    "            # retain value for outcome variable and continuous variables\n",
    "            else:\n",
    "                mappedVal = line[i]\n",
    "            mappedLine.append(mappedVal)\n",
    "        return mappedLine\n",
    "    \n",
    "    def retypeInts(line):\n",
    "        \"\"\"Integer variables are currently strings, \n",
    "           retype integer variables being treated as continuous variables as integers\n",
    "           Ignore missing values for now.\n",
    "        \"\"\"\n",
    "        newLine = []\n",
    "        for i in range(len(line)):\n",
    "            val = line[i]\n",
    "            if i in continuousIndex_BC.value or i==0:\n",
    "                if val != '':\n",
    "                    val = int(val)\n",
    "            newLine.append(val)\n",
    "        return newLine  \n",
    "    \n",
    "    RDD = sc.textFile(dataFile) \\\n",
    "            .map(removeCols) \\\n",
    "            .map(lookup) \\\n",
    "            .map(retypeInts)\n",
    "\n",
    "    return RDD "
   ]
  },
  {
   "cell_type": "code",
   "execution_count": 47,
   "metadata": {
    "collapsed": true
   },
   "outputs": [],
   "source": [
    "def getMeanStddev(RDD):\n",
    "    \"\"\"Calculate mean and standard deviation for continuous variables on the\n",
    "       training dataset only. Missing values are ignored.\n",
    "       Input: RDD (after performing cleanDataStep1 function)\n",
    "       Output: list of means and list of standard deviations for continuous variables\"\"\"\n",
    "    \n",
    "    print(\"\\nCalculating Mean and Standard Deviation\")\n",
    "\n",
    "    def selectContinuous(line):\n",
    "        \"\"\"Create RDD with only continuous variables for performing calculations.\"\"\"\n",
    "        newLine = []\n",
    "        for i in range(len(line)):\n",
    "            if i in continuousIndex_BC.value:\n",
    "                newLine.append((line[i]))\n",
    "        return newLine\n",
    "\n",
    "    subsetRDD = RDD.map(selectContinuous).cache()\n",
    "    means = []\n",
    "    stdDevs = []\n",
    "    for i in range(len(continuousIndex_BC.value)):\n",
    "        mean = subsetRDD.map(lambda x: x[i]).filter(lambda x: x != '').mean()\n",
    "        stdDev = np.sqrt(subsetRDD.map(lambda x: x[i]).filter(lambda x: x != '').variance())\n",
    "        means.append(mean)\n",
    "        stdDevs.append(stdDev)\n",
    "    return means, stdDevs"
   ]
  },
  {
   "cell_type": "code",
   "execution_count": 48,
   "metadata": {
    "collapsed": true
   },
   "outputs": [],
   "source": [
    "# replace missing values\n",
    "def normalizeAndReplaceMissing(RDD):\n",
    "    \"\"\"Normalize continuous variables in all dataset using the mean\n",
    "       and standard deviation of those variables in the training dataset.\n",
    "       Replace missing values for continuous variables with zero,\n",
    "       which is the mean of the normalized variables.\n",
    "       Replace missing values for categorical variables with string 'NA'\n",
    "       Input:  RDD (after performing cleanDataStep1 function)\n",
    "       Output: RDD in same format with updated values.\n",
    "    \"\"\"\n",
    "\n",
    "    def updateValues(line):\n",
    "        \"\"\"Update values in each variable in a single row of the dataset.\n",
    "        \"\"\"\n",
    "        newLine = []\n",
    "        for i in range(len(line)):\n",
    "            val = line[i]   \n",
    "            # replace missing values and normalize continuous integer variables\n",
    "            if i in continuousIndex_BC.value:            \n",
    "                if val == '':\n",
    "                    idx = continuousIndex_BC.value.index(i)\n",
    "                    val = float(0)\n",
    "                else:\n",
    "                    idx = continuousIndex_BC.value.index(i)\n",
    "                    val = float((val - means_BC.value[idx])/stdDevs_BC.value[idx])           \n",
    "            # replace missing values for categorical variables\n",
    "            elif i in categoricalIndex_BC.value:   \n",
    "                if val == '':\n",
    "                    val = 'NA'\n",
    "            else:\n",
    "                val = val\n",
    "            newLine.append(val)\n",
    "        return newLine\n",
    "    \n",
    "    cleanRDD = RDD.map(updateValues)\n",
    "    return cleanRDD"
   ]
  },
  {
   "cell_type": "code",
   "execution_count": 49,
   "metadata": {
    "collapsed": true
   },
   "outputs": [],
   "source": [
    "def oneHotEncode(cleanRDD):\n",
    "    \"\"\"One-hot encode categorical variables\"\"\"\n",
    "    \n",
    "    print(\"One-hot encoding categorical variables\")\n",
    "    \n",
    "    def create_dataframe(cleanRDD):\n",
    "        cat_schema = [StructField(col, StringType(), True) for col in candidateCategoricalVariables_BC.value]\n",
    "        int_schema = [StructField(col, IntegerType(), True) for col in outcomeCOL]\n",
    "        cont_schema = [StructField(col, FloatType(), True) for col in candidateContinuousVariables_BC.value]\n",
    "        schema_order = int_schema\n",
    "        for i in columnNames:\n",
    "            if i in candidateContinuousVariables_BC.value:\n",
    "                idx = candidateContinuousVariables_BC.value.index(i)\n",
    "                col = cont_schema[idx]\n",
    "                schema_order.append(col)\n",
    "            elif i in candidateCategoricalVariables_BC.value:\n",
    "                idx = candidateCategoricalVariables_BC.value.index(i)\n",
    "                col = cat_schema[idx]\n",
    "                schema_order.append(col)\n",
    "\n",
    "        schema = StructType(schema_order)\n",
    "        df = spark.createDataFrame(cleanRDD, schema)\n",
    "        return df\n",
    "    \n",
    "    def create_col_index(df):\n",
    "        category_idx_cols = [col+\"_index\" for col in candidateCategoricalVariables_BC.value]\n",
    "        indexers = [StringIndexer(inputCol=column, outputCol=column+\"_index\").fit(df) for \n",
    "                    column in list(set(candidateCategoricalVariables_BC.value)) ]\n",
    "        pipeline = Pipeline(stages=indexers)\n",
    "        df_r = pipeline.fit(df).transform(df)\n",
    "        # Dropping cols and keeping index columns, now all hashed strings are represented as numbers,\n",
    "        # which are easier to work with for one-hot encoding the categorical columns\n",
    "        for col in candidateCategoricalVariables_BC.value:\n",
    "            df_r = df_r.drop(col)\n",
    "        print(\"Look at statistics for continuous variables:\\n\")\n",
    "        for col in candidateContinuousVariables_BC.value:\n",
    "            print(df_r.select(col).describe().show())\n",
    "        return df_r\n",
    "    \n",
    "    # set up variables for encoding\n",
    "    category_vector_cols = [col+\"_vector\" for col in candidateCategoricalVariables_BC.value]\n",
    "    category_vector_cols_BC = sc.broadcast(category_vector_cols)\n",
    "    \n",
    "    def one_hot_encode_df(df_r):\n",
    "        encoded_df = df_r\n",
    "        encoders = {}\n",
    "        for i in range(len(candidateCategoricalVariables_BC.value)):\n",
    "            encoders[i] = OneHotEncoder(inputCol=(candidateCategoricalVariables_BC.value[i] + \"_index\"), \n",
    "                                        outputCol=candidateCategoricalVariables_BC.value[i] +\"_vector\")\n",
    "        # loop over dict of encoders and transform df\n",
    "        for i in range(len(candidateCategoricalVariables_BC.value)):\n",
    "            encoded_df = encoders[i].transform(encoded_df)\n",
    "        return encoded_df\n",
    "    \n",
    "    def assemble_vector(encoded_df):\n",
    "        assembler = VectorAssembler(\n",
    "            inputCols=candidateContinuousVariables_BC.value + category_vector_cols_BC.value,\n",
    "            outputCol=\"features\")\n",
    "        output = assembler.transform(encoded_df)\n",
    "        vector_df = output.select('features', 'Y')\n",
    "        return vector_df\n",
    "    \n",
    "    df = create_dataframe(cleanRDD).cache()\n",
    "    cleanRDD.unpersist()\n",
    "    df_r = create_col_index(df).cache()\n",
    "    df.unpersist()\n",
    "    encoded_df = one_hot_encode_df(df_r).cache()\n",
    "    df_r.unpersist()\n",
    "    vector_df = assemble_vector(encoded_df)\n",
    "    encoded_df.unpersist()\n",
    "    return vector_df"
   ]
  },
  {
   "cell_type": "code",
   "execution_count": 50,
   "metadata": {},
   "outputs": [
    {
     "name": "stdout",
     "output_type": "stream",
     "text": [
      "Unused columns removed, categorical variables values mapped to new values, and            \n",
      "continuous variables retyped as integers.\n",
      "Unused columns removed, categorical variables values mapped to new values, and            \n",
      "continuous variables retyped as integers.\n"
     ]
    }
   ],
   "source": [
    "# All data - load into RDD and perform initial data cleanup\n",
    "# This RDD is used in two subsequent calculations\n",
    "# RDD = cleanDataInitial(dataFile).cache()\n",
    "train_RDD = cleanDataInitial(train_data_file)\n",
    "dev_RDD = cleanDataInitial(dev_data_file)"
   ]
  },
  {
   "cell_type": "code",
   "execution_count": 51,
   "metadata": {},
   "outputs": [
    {
     "name": "stdout",
     "output_type": "stream",
     "text": [
      "\n",
      "Calculating Mean and Standard Deviation\n",
      "\n",
      "Means and standard deviation calculations completed       \n",
      "in 1069.7616202831268 seconds\n"
     ]
    }
   ],
   "source": [
    "# Calculate mean and standard deviation on training set only\n",
    "start = time.time()\n",
    "means, stdDevs = getMeanStddev(train_RDD)\n",
    "means_BC = sc.broadcast(means)\n",
    "stdDevs_BC = sc.broadcast(stdDevs)\n",
    "print(f\"\\nMeans and standard deviation calculations completed \\\n",
    "      \\nin {time.time() - start} seconds\")"
   ]
  },
  {
   "cell_type": "code",
   "execution_count": 52,
   "metadata": {},
   "outputs": [
    {
     "name": "stdout",
     "output_type": "stream",
     "text": [
      "One-hot encoding categorical variables\n",
      "Look at statistics for continuous variables:\n",
      "\n",
      "+-------+--------------------+\n",
      "|summary|                 x02|\n",
      "+-------+--------------------+\n",
      "|  count|            36667712|\n",
      "|   mean|-4.90777934697029...|\n",
      "| stddev|   1.000000013845772|\n",
      "|    min|         -0.27939057|\n",
      "|    max|           93.857216|\n",
      "+-------+--------------------+\n",
      "\n",
      "None\n",
      "+-------+--------------------+\n",
      "|summary|                 x03|\n",
      "+-------+--------------------+\n",
      "|  count|            36667712|\n",
      "|   mean|1.385802613910847...|\n",
      "| stddev|  0.8861988502039855|\n",
      "|    min|         -0.06766283|\n",
      "|    max|           164.58293|\n",
      "+-------+--------------------+\n",
      "\n",
      "None\n",
      "+-------+--------------------+\n",
      "|summary|                 x05|\n",
      "+-------+--------------------+\n",
      "|  count|            36667712|\n",
      "|   mean|-6.10590551472628...|\n",
      "| stddev|  0.9870093067561718|\n",
      "|    min|         -0.26708427|\n",
      "|    max|           333.45724|\n",
      "+-------+--------------------+\n",
      "\n",
      "None\n",
      "+-------+--------------------+\n",
      "|summary|                 x06|\n",
      "+-------+--------------------+\n",
      "|  count|            36667712|\n",
      "|   mean|-1.18816463052352...|\n",
      "| stddev|  0.8810961363734491|\n",
      "|    min|         -0.29888332|\n",
      "|    max|           1109.0266|\n",
      "+-------+--------------------+\n",
      "\n",
      "None\n",
      "+-------+--------------------+\n",
      "|summary|                 x07|\n",
      "+-------+--------------------+\n",
      "|  count|            36667712|\n",
      "|   mean|-1.35665495116010...|\n",
      "| stddev|  0.9781261056179398|\n",
      "|    min|          -0.2494816|\n",
      "|    max|            527.2096|\n",
      "+-------+--------------------+\n",
      "\n",
      "None\n",
      "+-------+--------------------+\n",
      "|summary|                 x08|\n",
      "+-------+--------------------+\n",
      "|  count|            36667712|\n",
      "|   mean|-2.33358993287387...|\n",
      "| stddev|  0.9997525262563318|\n",
      "|    min|         -0.75207114|\n",
      "|    max|           362.61826|\n",
      "+-------+--------------------+\n",
      "\n",
      "None\n",
      "+-------+--------------------+\n",
      "|summary|                 x09|\n",
      "+-------+--------------------+\n",
      "|  count|            36667712|\n",
      "|   mean|5.624181459323074...|\n",
      "| stddev|  0.9781261050710055|\n",
      "|    min|         -0.48173237|\n",
      "|    max|           131.26868|\n",
      "+-------+--------------------+\n",
      "\n",
      "None\n",
      "+-------+--------------------+\n",
      "|summary|                 x13|\n",
      "+-------+--------------------+\n",
      "|  count|            36667712|\n",
      "|   mean|6.307258201740345...|\n",
      "| stddev|  0.8850068563590313|\n",
      "|    min|          -0.5096347|\n",
      "|    max|           455.10034|\n",
      "+-------+--------------------+\n",
      "\n",
      "None\n",
      "\n",
      "Final train data cleanup and means/standard deviation calculations completed       \n",
      "in 915.8490362167358 seconds\n"
     ]
    }
   ],
   "source": [
    "# All train data - finish data cleaning and one-hot encoding\n",
    "start = time.time()\n",
    "train_cleanRDD = normalizeAndReplaceMissing(train_RDD)\n",
    "train_vector_df = oneHotEncode(train_cleanRDD).cache()\n",
    "print(f\"\\nFinal train data cleanup and means/standard deviation calculations completed \\\n",
    "      \\nin {time.time() - start} seconds\")"
   ]
  },
  {
   "cell_type": "code",
   "execution_count": 53,
   "metadata": {},
   "outputs": [
    {
     "name": "stdout",
     "output_type": "stream",
     "text": [
      "One-hot encoding categorical variables\n",
      "Look at statistics for continuous variables:\n",
      "\n",
      "+-------+--------------------+\n",
      "|summary|                 x02|\n",
      "+-------+--------------------+\n",
      "|  count|             9172905|\n",
      "|   mean|3.006835378120007E-4|\n",
      "| stddev|  1.0247667628938706|\n",
      "|    min|         -0.27939057|\n",
      "|    max|            661.2673|\n",
      "+-------+--------------------+\n",
      "\n",
      "None\n",
      "+-------+--------------------+\n",
      "|summary|                 x03|\n",
      "+-------+--------------------+\n",
      "|  count|             9172905|\n",
      "|   mean|-1.81788254292421...|\n",
      "| stddev|  0.8856383093823359|\n",
      "|    min|         -0.06766283|\n",
      "|    max|           164.58293|\n",
      "+-------+--------------------+\n",
      "\n",
      "None\n",
      "+-------+--------------------+\n",
      "|summary|                 x05|\n",
      "+-------+--------------------+\n",
      "|  count|             9172905|\n",
      "|   mean|2.913904476775727E-4|\n",
      "| stddev|  0.9868494656701792|\n",
      "|    min|         -0.26708427|\n",
      "|    max|            35.63042|\n",
      "+-------+--------------------+\n",
      "\n",
      "None\n",
      "+-------+--------------------+\n",
      "|summary|                 x06|\n",
      "+-------+--------------------+\n",
      "|  count|             9172905|\n",
      "|   mean|-7.14604627956080...|\n",
      "| stddev|   0.810985439072664|\n",
      "|    min|         -0.29888332|\n",
      "|    max|            600.7006|\n",
      "+-------+--------------------+\n",
      "\n",
      "None\n",
      "+-------+--------------------+\n",
      "|summary|                 x07|\n",
      "+-------+--------------------+\n",
      "|  count|             9172905|\n",
      "|   mean|-1.43816412369696...|\n",
      "| stddev|  1.0202622701436044|\n",
      "|    min|          -0.2494816|\n",
      "|    max|            859.7733|\n",
      "+-------+--------------------+\n",
      "\n",
      "None\n",
      "+-------+--------------------+\n",
      "|summary|                 x08|\n",
      "+-------+--------------------+\n",
      "|  count|             9172905|\n",
      "|   mean|4.522592875188142E-4|\n",
      "| stddev|  1.0139161382170716|\n",
      "|    min|         -0.75207114|\n",
      "|    max|            358.2316|\n",
      "+-------+--------------------+\n",
      "\n",
      "None\n",
      "+-------+--------------------+\n",
      "|summary|                 x09|\n",
      "+-------+--------------------+\n",
      "|  count|             9172905|\n",
      "|   mean|1.024057836447444E-4|\n",
      "| stddev|  0.9787316925411351|\n",
      "|    min|         -0.48173237|\n",
      "|    max|            79.22502|\n",
      "+-------+--------------------+\n",
      "\n",
      "None\n",
      "+-------+--------------------+\n",
      "|summary|                 x13|\n",
      "+-------+--------------------+\n",
      "|  count|             9172905|\n",
      "|   mean|6.396389145994807E-4|\n",
      "| stddev|  0.9101563486079963|\n",
      "|    min|          -0.5096347|\n",
      "|    max|           458.14023|\n",
      "+-------+--------------------+\n",
      "\n",
      "None\n",
      "\n",
      "Final dev data cleanup and means/standard deviation calculations completed       \n",
      "in 264.4550051689148 seconds\n"
     ]
    }
   ],
   "source": [
    "# All dev data - finish data cleaning and one-hot encoding\n",
    "start = time.time()\n",
    "dev_cleanRDD = normalizeAndReplaceMissing(dev_RDD)\n",
    "dev_vector_df = oneHotEncode(dev_cleanRDD).cache()\n",
    "print(f\"\\nFinal dev data cleanup and means/standard deviation calculations completed \\\n",
    "      \\nin {time.time() - start} seconds\")"
   ]
  },
  {
   "cell_type": "code",
   "execution_count": 54,
   "metadata": {},
   "outputs": [
    {
     "name": "stdout",
     "output_type": "stream",
     "text": [
      "+-------+-------------------+\n",
      "|summary|                  Y|\n",
      "+-------+-------------------+\n",
      "|  count|           36667712|\n",
      "|   mean|0.25623725854506546|\n",
      "| stddev| 0.4365543850150342|\n",
      "|    min|                  0|\n",
      "|    max|                  1|\n",
      "+-------+-------------------+\n",
      "\n",
      "None\n",
      "+-------+-------------------+\n",
      "|summary|                  Y|\n",
      "+-------+-------------------+\n",
      "|  count|            9172905|\n",
      "|   mean| 0.2561679206314684|\n",
      "| stddev|0.43651567880605513|\n",
      "|    min|                  0|\n",
      "|    max|                  1|\n",
      "+-------+-------------------+\n",
      "\n",
      "None\n"
     ]
    }
   ],
   "source": [
    "print(train_vector_df.describe().show())\n",
    "print(dev_vector_df.describe().show())"
   ]
  },
  {
   "cell_type": "code",
   "execution_count": 58,
   "metadata": {
    "collapsed": true
   },
   "outputs": [],
   "source": [
    "# print(train_vector_df.select('features').describe().show())\n",
    "# print(dev_vector_df.select('features').describe().show())"
   ]
  },
  {
   "cell_type": "code",
   "execution_count": 56,
   "metadata": {},
   "outputs": [
    {
     "name": "stdout",
     "output_type": "stream",
     "text": [
      "+--------------------+\n",
      "|            features|\n",
      "+--------------------+\n",
      "|(65,[0,2,3,4,5,6,...|\n",
      "|(65,[0,1,2,4,5,6,...|\n",
      "|(65,[0,1,2,3,4,5,...|\n",
      "|(65,[0,1,2,3,4,5,...|\n",
      "|(65,[0,2,3,4,5,6,...|\n",
      "|(65,[0,2,3,4,5,6,...|\n",
      "|(65,[0,1,2,3,4,5,...|\n",
      "|(65,[0,1,2,3,4,5,...|\n",
      "|(65,[0,1,2,3,4,5,...|\n",
      "|(65,[0,1,2,3,4,5,...|\n",
      "|(65,[0,2,4,5,6,7,...|\n",
      "|(65,[0,1,2,3,4,5,...|\n",
      "|(65,[0,1,2,3,4,5,...|\n",
      "|(65,[0,1,2,3,4,5,...|\n",
      "|(65,[0,1,2,4,5,6,...|\n",
      "|(65,[0,2,3,4,5,6,...|\n",
      "|(65,[0,1,2,3,4,5,...|\n",
      "|(65,[0,1,2,3,4,5,...|\n",
      "|(65,[0,1,2,3,4,5,...|\n",
      "|(65,[0,1,2,3,4,5,...|\n",
      "+--------------------+\n",
      "only showing top 20 rows\n",
      "\n",
      "None\n",
      "+--------------------+\n",
      "|            features|\n",
      "+--------------------+\n",
      "|(65,[0,1,2,3,4,5,...|\n",
      "|(65,[0,2,4,5,6,8,...|\n",
      "|(65,[0,1,2,4,5,6,...|\n",
      "|(65,[0,2,3,4,5,6,...|\n",
      "|(65,[0,1,2,3,4,5,...|\n",
      "|(65,[0,1,2,4,5,6,...|\n",
      "|(65,[0,1,2,3,4,5,...|\n",
      "|(65,[0,1,2,3,4,5,...|\n",
      "|(65,[0,1,2,3,4,5,...|\n",
      "|(65,[0,1,2,3,4,5,...|\n",
      "|(65,[0,1,2,5,7,9,...|\n",
      "|(65,[0,1,2,3,4,5,...|\n",
      "|(65,[0,1,2,3,4,5,...|\n",
      "|(65,[0,1,2,3,4,5,...|\n",
      "|(65,[0,1,2,3,4,5,...|\n",
      "|(65,[0,1,2,3,4,5,...|\n",
      "|(65,[0,2,3,4,5,6,...|\n",
      "|(65,[0,1,2,3,4,5,...|\n",
      "|(65,[0,1,2,3,4,5,...|\n",
      "|(65,[0,1,4,5,6,7,...|\n",
      "+--------------------+\n",
      "only showing top 20 rows\n",
      "\n",
      "None\n"
     ]
    }
   ],
   "source": [
    "print(train_vector_df.select('features').show())\n",
    "print(dev_vector_df.select('features').show())"
   ]
  },
  {
   "cell_type": "code",
   "execution_count": 57,
   "metadata": {},
   "outputs": [
    {
     "name": "stdout",
     "output_type": "stream",
     "text": [
      "Saving output train\n",
      "Saving output dev\n"
     ]
    }
   ],
   "source": [
    "def save_output_file(label, df):\n",
    "    print(\"Saving output {}\".format(label))\n",
    "    out_file_path = \"gs://final-project-w261-ads-data/notebooks/output_files/transformed_parquet12122018/{}_full_batch/\".format(label)\n",
    "    df.write.parquet(out_file_path)\n",
    "\n",
    "save_output_file(\"train\", train_vector_df)\n",
    "save_output_file(\"dev\", dev_vector_df)"
   ]
  },
  {
   "cell_type": "markdown",
   "metadata": {},
   "source": [
    "## Logistic Regression by miniBatch-GD"
   ]
  },
  {
   "cell_type": "markdown",
   "metadata": {},
   "source": [
    "### 1. Getting Feature Names\n",
    "\n",
    "The feature names will be used for plotting later."
   ]
  },
  {
   "cell_type": "code",
   "execution_count": 59,
   "metadata": {
    "collapsed": true
   },
   "outputs": [],
   "source": [
    "# create field names for parquet output\n",
    "FIELDS = ['x'+str(num).zfill(2) for num in list(range(7))]+['c'+str(num).zfill(2) for num in list(range(7,65))]"
   ]
  },
  {
   "cell_type": "markdown",
   "metadata": {},
   "source": [
    "### 2. Create Lists of Data File Names\n",
    "\n",
    "Here, we create one list of filenames for the 80 files that make up the training portion of the data set, and one list of filenames for the 20 files that make up the validation portion of the data set.\n",
    "\n",
    "These file name lists will be used later for the purpose of \"miniBatching\", since we will train/eval on one file at a time, instead of feeding data from all 80 files at a time."
   ]
  },
  {
   "cell_type": "code",
   "execution_count": 60,
   "metadata": {
    "collapsed": true
   },
   "outputs": [],
   "source": [
    "# REAL FILES ####################################################\n",
    "gs_train_path = \"gs://final-project-w261-ads-data/notebooks/output_files/transformed_parquet12122018/train_full_batch/\"\n",
    "gs_test_path = \"gs://final-project-w261-ads-data/notebooks/output_files/transformed_parquet12122018/dev_full_batch/\"\n",
    "\n",
    "train_files =[gs_train_path + \"part-000\" + str(num).zfill(2)+\"*\" for num in range(80)]\n",
    "test_files =[gs_test_path + \"part-000\" + str(num).zfill(2)+\"*\" for num in range(20)]"
   ]
  },
  {
   "cell_type": "markdown",
   "metadata": {},
   "source": [
    "### 3. Define the BASELINE model\n",
    "\n",
    "We use the first train parquet file to estimate P(Y=1) and define a baseline model."
   ]
  },
  {
   "cell_type": "code",
   "execution_count": 61,
   "metadata": {},
   "outputs": [
    {
     "name": "stdout",
     "output_type": "stream",
     "text": [
      "Estimated P(Y=1): 0.2559733510063057\n",
      "Logit of P(Y=1): -1.0670035113021255\n",
      "\n",
      " ... used 56.44 seconds for this step\n"
     ]
    }
   ],
   "source": [
    "start = time.time()\n",
    "\n",
    "# read the first train parquet into an RDD\n",
    "trainRDD_00 = sqlContext.read.parquet(train_files[0]).rdd.map(lambda x: (x[0].toArray(), x[1]))\n",
    "trainRDD_00.cache()   \n",
    "\n",
    "# Eastimate P(Y=1) based on TrainRDD\n",
    "P_hat = trainRDD_00.map(lambda x: x[1]).mean()             \n",
    "\n",
    "# Inverse of logistic\n",
    "def logit(p):\n",
    "    return np.log(p / (1 - p))\n",
    "\n",
    "# Calulate logit\n",
    "logit_P_hat = logit(P_hat)\n",
    "\n",
    "print(f\"Estimated P(Y=1): {P_hat}\")\n",
    "print(f\"Logit of P(Y=1): {logit_P_hat}\")\n",
    "\n",
    "print(f\"\\n ... used {np.round(time.time() - start, 3)} seconds for this step\")       "
   ]
  },
  {
   "cell_type": "code",
   "execution_count": 62,
   "metadata": {
    "collapsed": true
   },
   "outputs": [],
   "source": [
    "# define your baseline model here\n",
    "BASELINE = np.append([logit_P_hat], np.zeros(trainRDD_00.take(1)[0][0].shape[0]))"
   ]
  },
  {
   "cell_type": "markdown",
   "metadata": {},
   "source": [
    "### 4. Define the Cross-Entropy Loss Function\n",
    "\n",
    "Cross-Entropy Loss will be used to monitor progress. \n",
    "\n",
    "Here we also calculate the loss on the train set using the first train data batch."
   ]
  },
  {
   "cell_type": "code",
   "execution_count": 64,
   "metadata": {
    "collapsed": true
   },
   "outputs": [],
   "source": [
    "# function to compute Cross-Entropy loss \n",
    "def CELoss(dataRDD, W):\n",
    "    \"\"\"\n",
    "    Compute Cross Entropy Loss\n",
    "    Args:\n",
    "        dataRDD - each record is a tuple of (features_array, y)\n",
    "        W       - (array) model coefficients with bias at index 0\n",
    "    \"\"\"\n",
    "    # sigmoid function for calculating the logistic\n",
    "    sigmoid = np.vectorize(lambda x: 1/(1+math.exp(-x)))\n",
    "    \n",
    "    # Note the features need to be augmented to be (1, features) since W has bias at index 0\n",
    "    w = sc.broadcast(W)   \n",
    "    loss = dataRDD.map(lambda x: (np.append([1.0], x[0]), x[1]))\\\n",
    "                  .map(lambda x: (-np.log(sigmoid(np.dot(w.value, x[0]))) * x[1])-(1-x[1])*np.log(1-sigmoid(np.dot(w.value, x[0]))))\\\n",
    "                  .mean()\n",
    "    \n",
    "    return loss"
   ]
  },
  {
   "cell_type": "code",
   "execution_count": 65,
   "metadata": {},
   "outputs": [
    {
     "name": "stdout",
     "output_type": "stream",
     "text": [
      "Baseline model loss on Train: 0.5688028905740877\n",
      "\n",
      " ... used 27.208 seconds for this step\n"
     ]
    },
    {
     "data": {
      "text/plain": [
       "PythonRDD[660] at RDD at PythonRDD.scala:48"
      ]
     },
     "execution_count": 65,
     "metadata": {},
     "output_type": "execute_result"
    }
   ],
   "source": [
    "#  compute the loss for the baseline model \n",
    "assert len(BASELINE) == len(trainRDD_00.take(1)[0][0]) + 1, \"Double check model dimensions\"\n",
    "\n",
    "start = time.time()\n",
    "\n",
    "print(f\"Baseline model loss on Train: {CELoss(trainRDD_00, BASELINE)}\")\n",
    "\n",
    "print(f\"\\n ... used {np.round(time.time() - start, 3)} seconds for this step\")     \n",
    "\n",
    "trainRDD_00.unpersist()"
   ]
  },
  {
   "cell_type": "markdown",
   "metadata": {},
   "source": [
    "### 5. Define functions to be used for miniBatch-GD"
   ]
  },
  {
   "cell_type": "markdown",
   "metadata": {},
   "source": [
    "`GDUpdate_wRge()` function works exactly the same as in the toy example in Section 2.\n",
    "\n",
    "`miniBatch_GD()` is the function for running minibatch gradient descent, which is our scaled version of the Batch Gradient Descent presented in the toy example in Section 2.  \n",
    "__`nEpochs=1`__ means we will run through the training set once, __`nBatches=5`__ means we will only train on the first 5 of the 80 files for each \"Epoch\". These variables are set tup to allow us to test using a small number of files instead of all 80. \n",
    "\n",
    "For example, to train on one iteration on all 80 files once, we set __`nEpochs=1`__ and __`nBatches=80`__.  We will use that when we are ready to run on the whole train set."
   ]
  },
  {
   "cell_type": "code",
   "execution_count": 66,
   "metadata": {
    "collapsed": true
   },
   "outputs": [],
   "source": [
    "# function for running one-step of gradient descent with regularization\n",
    "def GDUpdate_wReg(dataRDD, W, learningRate = 0.1, regType = None, regParam = 0.1):\n",
    "    \"\"\"\n",
    "    Perform one gradient descent step/update with ridge or lasso regularization.\n",
    "    Args:\n",
    "        dataRDD - tuple of (features_array, y)\n",
    "        W       - (array) model coefficients with bias at index 0\n",
    "        learningRate - (float) defaults to 0.1\n",
    "        regType - (str) 'ridge' or 'lasso', defaults to None\n",
    "        regParam - (float) regularization term coefficient\n",
    "    Returns:\n",
    "        model   - (array) updated coefficients, bias still at index 0\n",
    "    \"\"\"\n",
    "    # define the sigmoid function\n",
    "    sigmoid = np.vectorize(lambda x: 1/(1+math.exp(-x)))  \n",
    "    \n",
    "    # note the features need to be augmented to (1, features) since W has bias at index 0\n",
    "   \n",
    "    new_model = None\n",
    "    \n",
    "    w = sc.broadcast(W)\n",
    "    \n",
    "    if regType == 'ridge':\n",
    "        grad = dataRDD.map(lambda x: (np.append([1.0], x[0]), x[1]))\\\n",
    "                      .map(lambda x: 2*(sigmoid(np.dot(x[0], w.value)) - x[1]) * x[0])\\\n",
    "                      .mean() + np.append([0], 2 * regParam * W[1:])\n",
    "    elif regType == 'lasso':\n",
    "        grad = dataRDD.map(lambda x: (np.append([1.0], x[0]), x[1]))\\\n",
    "                      .map(lambda x: 2*(sigmoid(np.dot(x[0], w.value)) - x[1]) * x[0])\\\n",
    "                      .mean() + np.append([0], regParam * np.sign(W[1:]))\n",
    "    else:        \n",
    "        grad = dataRDD.map(lambda x: (np.append([1.0], x[0]), x[1]))\\\n",
    "                      .map(lambda x: 2*(sigmoid(np.dot(x[0], w.value)) - x[1]) * x[0])\\\n",
    "                      .mean()\n",
    "      \n",
    "    new_model = W - learningRate * grad        \n",
    "    \n",
    "    return new_model"
   ]
  },
  {
   "cell_type": "code",
   "execution_count": 67,
   "metadata": {
    "collapsed": true
   },
   "outputs": [],
   "source": [
    "#  function for running miniBatch gradient descent\n",
    "def miniBatch_GD(data_files, wInit, nEpochs =1, nBatches=5, learningRate = 0.1,\n",
    "                         regType = None, regParam = 0.1, verbose = False):\n",
    "    \"\"\"\n",
    "    Perform nSteps iterations of miniBatch gradient descent and \n",
    "    track a dev set. \n",
    "    Return lists of dev loss and the models.\n",
    "    \"\"\"\n",
    "    \n",
    "    # make sure nBatchs does not exceed number of available files\n",
    "    if nBatches > len(data_files):\n",
    "        nBatches = len(data_files)\n",
    "    \n",
    "    # initialize lists to track model performance\n",
    "    loss_history, model_history, steps_history = [], [], []\n",
    "    \n",
    "    # initialize model\n",
    "    model = wInit\n",
    "    idx = 0\n",
    "    \n",
    "    start0 = time.time()\n",
    "    \n",
    "    # Two loops to loop through epochs and batches\n",
    "    for i in range(nEpochs):\n",
    "        for j in range(nBatches):\n",
    "            \n",
    "            start = time.time()\n",
    "            \n",
    "            # read data from parquet, parse and split into train and dev set\n",
    "            dataRDD = sqlContext.read.parquet(data_files[j]).rdd.map(lambda x: (x[0].toArray(), x[1])).cache()\n",
    "            trainRDD, devRDD = dataRDD.randomSplit([0.9, 0.1], seed = 1)\n",
    "                        \n",
    "            # before any training, log the initial values\n",
    "            if j == 0:\n",
    "                dev_loss = CELoss(devRDD, model)\n",
    "                \n",
    "                model_history.append(model)\n",
    "                loss_history.append(dev_loss)\n",
    "                steps_history.append(idx)\n",
    "           \n",
    "            # update values\n",
    "            model = GDUpdate_wReg(trainRDD, model, learningRate, regType, regParam)\n",
    "            dev_loss = CELoss(devRDD, model)\n",
    "            idx += 1\n",
    "            \n",
    "            # log values\n",
    "            model_history.append(model)\n",
    "            loss_history.append(dev_loss)\n",
    "            steps_history.append(idx)\n",
    "                    \n",
    "            print(f\"\\n... used {np.round(time.time() - start, 3)} seconds for batch {idx}\")      \n",
    "            \n",
    "            # console output if desired\n",
    "            if verbose:\n",
    "                print(\"----------\")\n",
    "                print(f\"STEP: {idx}\")\n",
    "                print(f\"dev loss: {np.round(dev_loss,4)}\")\n",
    "                print(f\"Model: {[round(w,3) for w in model]}\")\n",
    "                \n",
    "    print(f\"\\n... trained {idx} iterations in {np.round(time.time() - start0, 3)} seconds\")            \n",
    "                \n",
    "    return loss_history, model_history, steps_history"
   ]
  },
  {
   "cell_type": "markdown",
   "metadata": {},
   "source": [
    "### 6. Run miniBatch-GD for Logistic Regression\n",
    "\n",
    "To train on all 80 files once, we set `nEpochs=1` and `nBatches=80`. We will use that when we are ready to run on the whole train set. \n"
   ]
  },
  {
   "cell_type": "code",
   "execution_count": 69,
   "metadata": {},
   "outputs": [
    {
     "name": "stdout",
     "output_type": "stream",
     "text": [
      "\n",
      "... used 81.888 seconds for batch 1\n",
      "\n",
      "... used 73.536 seconds for batch 2\n",
      "\n",
      "... used 78.03 seconds for batch 3\n",
      "\n",
      "... used 75.215 seconds for batch 4\n",
      "\n",
      "... used 71.163 seconds for batch 5\n",
      "\n",
      "... used 74.98 seconds for batch 6\n",
      "\n",
      "... used 74.659 seconds for batch 7\n",
      "\n",
      "... used 74.858 seconds for batch 8\n",
      "\n",
      "... used 77.606 seconds for batch 9\n",
      "\n",
      "... used 74.547 seconds for batch 10\n",
      "\n",
      "... trained 10 iterations in 756.486 seconds\n"
     ]
    }
   ],
   "source": [
    "# run iterations without regularization\n",
    "wInit = BASELINE\n",
    "\n",
    "results = miniBatch_GD(train_files, wInit, nEpochs = 1, nBatches=10, verbose=False)\n",
    "\n",
    "loss, models, steps = results"
   ]
  },
  {
   "cell_type": "markdown",
   "metadata": {},
   "source": [
    "We plot loss and coefficients train history."
   ]
  },
  {
   "cell_type": "code",
   "execution_count": 70,
   "metadata": {},
   "outputs": [
    {
     "data": {
      "image/png": "[encoded data removed]",
      "text/plain": [
       "<Figure size 432x288 with 1 Axes>"
      ]
     },
     "metadata": {
      "needs_background": "light"
     },
     "output_type": "display_data"
    }
   ],
   "source": [
    "plt.plot(pd.Series(steps), pd.Series(loss))\n",
    "plt.title('Dev Loss: GD')\n",
    "plt.xlabel('step')\n",
    "plt.ylabel('loss')\n",
    "plt.show()"
   ]
  },
  {
   "cell_type": "code",
   "execution_count": 71,
   "metadata": {},
   "outputs": [
    {
     "data": {
      "image/png": "[encoded data removed]",
      "text/plain": [
       "<Figure size 1080x576 with 1 Axes>"
      ]
     },
     "metadata": {
      "needs_background": "light"
     },
     "output_type": "display_data"
    }
   ],
   "source": [
    "def plotCoeffs(models, steps, featureNames, title):\n",
    "    \"\"\"\n",
    "    Helper Function to show how coefficients change as we train.\n",
    "    \"\"\"\n",
    "    fig, ax = plt.subplots(figsize = (15,8))\n",
    "    #X = list(range(len(models)))\n",
    "    X = steps\n",
    "    for data, name in zip(models.T, featureNames):\n",
    "        if name == \"Bias\":\n",
    "            continue\n",
    "        ax.plot(X, data, label=name)\n",
    "    ax.plot(X,[0]*len(X), 'k--')\n",
    "    plt.title(title)\n",
    "    plt.legend(loc='lower left', bbox_to_anchor=(1.02, 0.22), ncol=3, fancybox=True, shadow=True)\n",
    "    plt.show\n",
    "    \n",
    "coeffs = [model[1:] for model in models]\n",
    "\n",
    "plotCoeffs(np.array(coeffs), steps, FIELDS, \"Coefficients over \" + str(steps[-1]) + \" GD steps\")"
   ]
  },
  {
   "cell_type": "markdown",
   "metadata": {},
   "source": [
    "### 7. Evaluation\n",
    "\n",
    "We select the last trained model for evaluation.\n",
    "\n",
    "We also compare it to the BASELINE model.\n",
    "\n",
    "To save time, we evaluate the model performance using one of the test files, instead of the whole test set."
   ]
  },
  {
   "cell_type": "code",
   "execution_count": 72,
   "metadata": {},
   "outputs": [
    {
     "name": "stdout",
     "output_type": "stream",
     "text": [
      "Copying file://./FinalModel.pkl [Content-Type=application/octet-stream]...\n",
      "/ [1 files][  686.0 B/  686.0 B]                                                \n",
      "Operation completed over 1 objects/686.0 B.                                      \n"
     ]
    }
   ],
   "source": [
    "# use the last model for evaluation\n",
    "model = models[-1]\n",
    "outFile = './FinalModel.pkl'\n",
    "with open(outFile, 'wb') as fp:\n",
    "    pickle.dump(model, fp)\n",
    "!gsutil cp ./FinalModel.pkl gs://final-project-w261-ads-data/notebooks/final-model/FinalModel.pkl"
   ]
  },
  {
   "cell_type": "markdown",
   "metadata": {},
   "source": [
    "Make predictions using both trained \"model\" and \"BASELINE\" model"
   ]
  },
  {
   "cell_type": "code",
   "execution_count": 75,
   "metadata": {},
   "outputs": [
    {
     "name": "stdout",
     "output_type": "stream",
     "text": [
      "\n",
      " ... used 155.014 seconds for this step\n"
     ]
    }
   ],
   "source": [
    "# helper functions\n",
    "sigmoid = lambda x: 1/(1+math.exp(-x)) \n",
    "\n",
    "def pred_label(prob):\n",
    "    return 1 if prob >= .25 else 0\n",
    "\n",
    "start = time.time()\n",
    "\n",
    "# choosing dataset\n",
    "eval_file_path = \"gs://final-project-w261-ads-data/notebooks/output_files/transformed_parquet12122018/dev_full_batch/part-000*\"\n",
    "\n",
    "dataRDD = sqlContext.read.parquet(test_files[0]).rdd.map(lambda x: (x[0].toArray(), x[1]))\n",
    "\n",
    "# prediction RDD (true_label, pred_label, flag, pred_prob) Trained Model\n",
    "predRDD = dataRDD.map(lambda x: (np.append([1.0], x[0]), x[1]))\\\n",
    "                 .map(lambda x: (x[1], np.dot(x[0], model)))\\\n",
    "                 .map(lambda x: (x[0], x[1], sigmoid(x[1])))\\\n",
    "                 .map(lambda x: (x[0], x[1], x[2], pred_label(x[2])))\\\n",
    "                 .map(lambda x: (x[0], x[3], (x[0]==x[3])*1, x[2]))\\\n",
    "                 .cache()\n",
    "\n",
    "\n",
    "# prediction RDD (true_label, pred_label, flag, pred_prob) BASELINE\n",
    "baseline_predRDD = dataRDD.map(lambda x: (np.append([1.0], x[0]), x[1]))\\\n",
    "                      .map(lambda x: (x[1], np.dot(x[0], BASELINE)))\\\n",
    "                      .map(lambda x: (x[0], x[1], sigmoid(x[1])))\\\n",
    "                      .map(lambda x: (x[0], x[1], x[2], pred_label(x[2])))\\\n",
    "                      .map(lambda x: (x[0], x[3], (x[0]==x[3])*1, x[2]))\\\n",
    "                      .cache()\n",
    "\n",
    "print(f\"\\n ... used {np.round(time.time() - start, 3)} seconds for this step\")       "
   ]
  },
  {
   "cell_type": "markdown",
   "metadata": {},
   "source": [
    "We collect predictions:"
   ]
  },
  {
   "cell_type": "code",
   "execution_count": 76,
   "metadata": {},
   "outputs": [
    {
     "name": "stdout",
     "output_type": "stream",
     "text": [
      "\n",
      " ... used 104.941 seconds for this step\n"
     ]
    }
   ],
   "source": [
    "start = time.time()\n",
    "\n",
    "y_true = predRDD.map(lambda x: x[0]).collect()    # true labels\n",
    "y_pred = predRDD.map(lambda x: x[1]).collect()    # predicted labels \n",
    "y_prob = predRDD.map(lambda x: x[3]).collect()    # predicted probability of being \"1\"\n",
    "\n",
    "y_true_baseline = baseline_predRDD.map(lambda x: x[0]).collect()    # true labels\n",
    "y_pred_baseline = baseline_predRDD.map(lambda x: x[1]).collect()    # predicted labels \n",
    "y_prob_baseline = baseline_predRDD.map(lambda x: x[3]).collect()    # predicted probability of being \"1\"\n",
    "\n",
    "print(f\"\\n ... used {np.round(time.time() - start, 3)} seconds for this step\")       "
   ]
  },
  {
   "cell_type": "markdown",
   "metadata": {},
   "source": [
    "#### (a) Accuracy"
   ]
  },
  {
   "cell_type": "code",
   "execution_count": 77,
   "metadata": {},
   "outputs": [
    {
     "name": "stdout",
     "output_type": "stream",
     "text": [
      "\n",
      " Trained model accuracy: 0.6721\n",
      "\n",
      " BASELINE model accuracy: 0.2561\n"
     ]
    }
   ],
   "source": [
    "print(f\"\\n Trained model accuracy: {np.round(predRDD.map(lambda x: x[2]).mean(), 4)}\") \n",
    "print(f\"\\n BASELINE model accuracy: {np.round(baseline_predRDD.map(lambda x: x[2]).mean(), 4)}\")  "
   ]
  },
  {
   "cell_type": "markdown",
   "metadata": {},
   "source": [
    "#### (b) F1 score, recall, precision"
   ]
  },
  {
   "cell_type": "code",
   "execution_count": 78,
   "metadata": {},
   "outputs": [
    {
     "name": "stderr",
     "output_type": "stream",
     "text": [
      "/opt/conda/lib/python3.6/site-packages/sklearn/metrics/classification.py:1143: UndefinedMetricWarning: Precision and F-score are ill-defined and being set to 0.0 in labels with no predicted samples.\n",
      "  'precision', 'predicted', average, warn_for)\n"
     ]
    },
    {
     "name": "stdout",
     "output_type": "stream",
     "text": [
      "Trained Model:\n",
      "              precision    recall  f1-score   support\n",
      "\n",
      "           0       0.84      0.69      0.76    340774\n",
      "           1       0.41      0.63      0.49    117315\n",
      "\n",
      "   micro avg       0.67      0.67      0.67    458089\n",
      "   macro avg       0.63      0.66      0.63    458089\n",
      "weighted avg       0.73      0.67      0.69    458089\n",
      "\n",
      "BASELINE Model:\n",
      "              precision    recall  f1-score   support\n",
      "\n",
      "           0       0.00      0.00      0.00    340774\n",
      "           1       0.26      1.00      0.41    117315\n",
      "\n",
      "   micro avg       0.26      0.26      0.26    458089\n",
      "   macro avg       0.13      0.50      0.20    458089\n",
      "weighted avg       0.07      0.26      0.10    458089\n",
      "\n"
     ]
    }
   ],
   "source": [
    "report = classification_report(y_true, y_pred)\n",
    "report_baseline = classification_report(y_true_baseline, y_pred_baseline)\n",
    "\n",
    "print(\"Trained Model:\")\n",
    "print(report)\n",
    "print(\"BASELINE Model:\")\n",
    "print(report_baseline)"
   ]
  },
  {
   "cell_type": "markdown",
   "metadata": {},
   "source": [
    "#### (c) ROC_AUC"
   ]
  },
  {
   "cell_type": "code",
   "execution_count": 79,
   "metadata": {},
   "outputs": [
    {
     "name": "stdout",
     "output_type": "stream",
     "text": [
      "Trained model AUC: 0.716\n",
      "Baseline model AUC: 0.5\n"
     ]
    },
    {
     "data": {
      "image/png": "[encoded data removed]",
      "text/plain": [
       "<Figure size 432x288 with 1 Axes>"
      ]
     },
     "metadata": {
      "needs_background": "light"
     },
     "output_type": "display_data"
    }
   ],
   "source": [
    "fpr, tpr, thresh = roc_curve(y_true, y_prob)  \n",
    "\n",
    "fpr_baseline, tpr_baseline, thresh_baseline = roc_curve(y_true_baseline, y_prob_baseline)  \n",
    "\n",
    "auc = roc_auc_score(y_true, y_prob)\n",
    "print(\"Trained model AUC: {:.3}\".format(auc))\n",
    "\n",
    "auc_baseline = roc_auc_score(y_true_baseline, y_prob_baseline)\n",
    "print(\"Baseline model AUC: {:.3}\".format(auc_baseline))\n",
    "\n",
    "\n",
    "plt.plot(fpr, tpr, label=\"trained model\")\n",
    "plt.plot(fpr_baseline, tpr_baseline, label=\"baseline model\")\n",
    "plt.legend(loc='lower right')\n",
    "plt.xlabel('FPR')\n",
    "plt.ylabel('TPR')\n",
    "plt.title('ROC')\n",
    "plt.show()"
   ]
  },
  {
   "cell_type": "markdown",
   "metadata": {},
   "source": [
    "We chose AUC-ROC curve (Area Under the Curve of the Receiver Operating Characteristics) to evaluate our model. We chose this because AUC is not dependent on the decision boundary for the outcome variable, but instead only depends on predicted probabilities.  The outcome variable in this dataset is unbalanced (25% of 1 and 75% of 0, instead of 50-50), so we could potentially get different accuracy numbers in our baseline model by arbitrarily changing the threshold for prediction labels, thus making improvements to accuracy difficult to track. \n",
    "\n",
    "The baseline model in AUC assumes a label of 1 for every sample, so the baseline model accuracy will always be 25% for this dataset (because 25% of the dataset has an outcome variable of 1). Thus improvements to accuracy in logistic regression can be better evaluted when using AUC than with other accuracy measures.\n",
    "\n",
    "We see an improvement in the AUC to 0.716 in our trained model from 0.5 in the baseline model, indicating that we are on the right track with our algorithm.  It's likely that further improvements could be made with improved, optimized feature engineering and more model training.\n",
    "\n",
    "Reference: https://towardsdatascience.com/understanding-auc-roc-curve-68b2303cc9c5"
   ]
  },
  {
   "cell_type": "markdown",
   "metadata": {},
   "source": [
    "## Section 5: Application of Course Concepts"
   ]
  },
  {
   "cell_type": "markdown",
   "metadata": {},
   "source": [
    "### Key Concepts:  \n",
    "We illustrated in our code for this project several concepts that we discussed in class this semester:  \n",
    "\n",
    "-  __Bias/Variance Trade-off:__  If we had left the categorical variables that had many unique levels in place then our model would have very high variance as a result of overfitting.  \n",
    "\n",
    "-  __Parallel Programming:__  In order to efficently process 45 Million rows of records to compute basic statistics for exploring the data - we chose to use Spark's implementation of the Map/Reduce parallel programming framework.  This allowed us to quickly process all the data - which was required to get a sense for the number of unique values for each categorical feature, the count of records at each level for each categorical variable etc that could not have been accomplished with a sample of the data.  \n",
    "\n",
    "-  __One-Hot Encoding:__ We had a number of categorical variables in our data set with hundreds of thousands of different values. These categorical variables needed to be represented numerically in order to feed into one of our algorithms, but we needed to do some dimensionality reduction before moving on so that we didn't end up with thousands of columns. Once we transformed our data, our one-hot encoding resulted in 65 columns and was very achievable on a standard cluster with modest amounts of CPUs and memory.  \n",
    "\n",
    "- __Normalization:__ The continuous integer variables in this dataset spanned wide numeric ranges on different scales. Had we left them in that state, the varying scales of those variables would have caused the gradient descent to fail to converge.  To normalize the continuous variables, first we calculated the mean and standard deviation for each variable based on the training data, excluding missing values.  Then we transformed each value in the continuous variables in both the training and the test dataset into a Z-score, specifically, the current value minus the mean for that variable, divded by the standard deviation for that variable.  This results in continuous variables that are all scaled with a mean of zero and a standard deviation of one.  Subsequently we replaced missing values with the mean of the normalized variables, which is zero.  \n",
    "Some variables had outliers up to almost 100 standard deviations away from the mean, which may be extreme enough to violate an assumption for logistic regression, that no influential values exist in the continuous predictors.  Were we to spend more time on feature engineering, we would examine those continuous variables in more detail and consider transforming or eliminating outliers beyond a certain threshold of standard deviation.  \n",
    "\n",
    "- __Regularization:__ We implemented lasso regularization in a test notebook, though we did not end up running our implementation of regularization on the full dataset. The large number of variables make regularization a natural next step to explore for improving the model.  Even after work we did in Sections 3 and 4 to reduce dimensionality, we still ended up with about 60 features, which could result in overfitting. Lasso regularization in particular could eliminate some of those extra variables and narrow down the model to a smaller number of coefficients that are more interpretable and also less likely to result in overfitting. "
   ]
  }
 ],
 "metadata": {
  "kernelspec": {
   "display_name": "Python 3",
   "language": "python",
   "name": "python3"
  },
  "language_info": {
   "codemirror_mode": {
    "name": "ipython",
    "version": 3
   },
   "file_extension": ".py",
   "mimetype": "text/x-python",
   "name": "python",
   "nbconvert_exporter": "python",
   "pygments_lexer": "ipython3",
   "version": "3.6.1"
  }
 },
 "nbformat": 4,
 "nbformat_minor": 2
}
